{
 "cells": [
  {
   "cell_type": "markdown",
   "id": "518f1661",
   "metadata": {},
   "source": [
    "# Welcome to Python 3.7"
   ]
  },
  {
   "cell_type": "markdown",
   "id": "8ab9cd8d",
   "metadata": {},
   "source": [
    "Lists: In Built Functions "
   ]
  },
  {
   "cell_type": "markdown",
   "id": "021250b2",
   "metadata": {},
   "source": [
    "# List"
   ]
  },
  {
   "cell_type": "markdown",
   "id": "9ca4bd63",
   "metadata": {},
   "source": [
    "Lists are used to store multiple items in a single variable. List is one of the built-in data types in Python. A Python list is a sequence of comma separated items, enclosed in square brackets [ ]. The items in a Python list need not be of the same data type."
   ]
  },
  {
   "cell_type": "code",
   "execution_count": 2,
   "id": "96ed1a71",
   "metadata": {},
   "outputs": [
    {
     "name": "stdout",
     "output_type": "stream",
     "text": [
      "['A', 10, 3.8, True]\n"
     ]
    }
   ],
   "source": [
    "list1 = [\"A\", 10, 3.8, True]\n",
    "print(list1)"
   ]
  },
  {
   "cell_type": "markdown",
   "id": "61ccea9e",
   "metadata": {},
   "source": [
    "# List items are ordered, changeable, and allow duplicate values.\n"
   ]
  },
  {
   "cell_type": "markdown",
   "id": "2e3bfdb7",
   "metadata": {},
   "source": [
    "\n",
    "List items are indexed, the first item has index [0], the second item has index [1] etc."
   ]
  },
  {
   "cell_type": "code",
   "execution_count": 3,
   "id": "acfade65",
   "metadata": {},
   "outputs": [
    {
     "name": "stdout",
     "output_type": "stream",
     "text": [
      "['volvo', 'audi', 'tata', 'bmw', 'audi', 'tata']\n"
     ]
    }
   ],
   "source": [
    "mylist = ['volvo', 'audi', 'tata', 'bmw', 'audi', 'tata']\n",
    "print(mylist)"
   ]
  },
  {
   "cell_type": "markdown",
   "id": "2d83bcd3",
   "metadata": {},
   "source": [
    "# List Length"
   ]
  },
  {
   "cell_type": "markdown",
   "id": "410e231e",
   "metadata": {},
   "source": [
    "To determine how many items a list has, use the len() function"
   ]
  },
  {
   "cell_type": "code",
   "execution_count": 4,
   "id": "c327c770",
   "metadata": {},
   "outputs": [
    {
     "name": "stdout",
     "output_type": "stream",
     "text": [
      "4\n"
     ]
    }
   ],
   "source": [
    "# List Length\n",
    "\n",
    "thislist = ['vovlo', 'bmw', 'RR', 'audi']\n",
    "print(len(thislist))"
   ]
  },
  {
   "cell_type": "markdown",
   "id": "c0e6640a",
   "metadata": {},
   "source": [
    "# List Data types"
   ]
  },
  {
   "cell_type": "markdown",
   "id": "39b44b35",
   "metadata": {},
   "source": [
    "List items can be of any data type."
   ]
  },
  {
   "cell_type": "code",
   "execution_count": 5,
   "id": "249dca57",
   "metadata": {},
   "outputs": [
    {
     "name": "stdout",
     "output_type": "stream",
     "text": [
      "[1, 2, 3, 4]\n",
      "['car', 'bike', 'truck']\n",
      "[True, False]\n",
      "[1.2, 4.3, 8.5, 7.4]\n"
     ]
    }
   ],
   "source": [
    "# List Data Types\n",
    "\"\"\"\n",
    "List items can be of any data type\n",
    "\n",
    "\"\"\"\n",
    "\n",
    "list1 = [1, 2, 3, 4]\n",
    "list2 = ['car', 'bike', 'truck']\n",
    "list3 = [True, False]\n",
    "list4 = [1.2, 4.3, 8.5, 7.4]\n",
    "\n",
    "print(list1)\n",
    "print(list2)\n",
    "print(list3)\n",
    "print(list4)"
   ]
  },
  {
   "cell_type": "code",
   "execution_count": null,
   "id": "e973c01f",
   "metadata": {},
   "outputs": [],
   "source": []
  },
  {
   "cell_type": "markdown",
   "id": "df175029",
   "metadata": {},
   "source": [
    "# List Type\n"
   ]
  },
  {
   "cell_type": "markdown",
   "id": "72091dc5",
   "metadata": {},
   "source": [
    "From Python's perspective, lists are defined as objects with the data type 'list'"
   ]
  },
  {
   "cell_type": "code",
   "execution_count": 6,
   "id": "98ca1320",
   "metadata": {},
   "outputs": [
    {
     "name": "stdout",
     "output_type": "stream",
     "text": [
      "<class 'list'>\n"
     ]
    }
   ],
   "source": [
    "# <class 'list'>\n",
    "\n",
    "list1 = [2, 4, 'Hello']\n",
    "print(type(list1))"
   ]
  },
  {
   "cell_type": "code",
   "execution_count": null,
   "id": "ff7b1fd8",
   "metadata": {},
   "outputs": [],
   "source": []
  },
  {
   "cell_type": "markdown",
   "id": "a6111bef",
   "metadata": {},
   "source": [
    "# list() Constructor"
   ]
  },
  {
   "cell_type": "markdown",
   "id": "e69c05b6",
   "metadata": {},
   "source": [
    "It is also possible to use the list() constructor when creating a new list."
   ]
  },
  {
   "cell_type": "code",
   "execution_count": 7,
   "id": "3c43f47f",
   "metadata": {},
   "outputs": [
    {
     "name": "stdout",
     "output_type": "stream",
     "text": [
      "['car', 'bike', 'cycle']\n"
     ]
    }
   ],
   "source": [
    "x = list(('car','bike', 'cycle'))  # note the double round-brackets\n",
    "print(x)"
   ]
  },
  {
   "cell_type": "code",
   "execution_count": null,
   "id": "a628fb6e",
   "metadata": {},
   "outputs": [],
   "source": []
  },
  {
   "cell_type": "markdown",
   "id": "d5263952",
   "metadata": {},
   "source": [
    "# Accessing List Items"
   ]
  },
  {
   "cell_type": "markdown",
   "id": "dd6a123f",
   "metadata": {},
   "source": [
    "List items are indexed and you can access them by referring to the index number:"
   ]
  },
  {
   "cell_type": "raw",
   "id": "2ce204b7",
   "metadata": {},
   "source": [
    "Note: The first item has index 0."
   ]
  },
  {
   "cell_type": "code",
   "execution_count": 8,
   "id": "ffa56cb1",
   "metadata": {},
   "outputs": [
    {
     "name": "stdout",
     "output_type": "stream",
     "text": [
      "2\n",
      "bike\n"
     ]
    }
   ],
   "source": [
    "y = [2, 5, True, 'car', 'bike']\n",
    "\n",
    "print(y[0]) \n",
    "print(y[4])"
   ]
  },
  {
   "cell_type": "raw",
   "id": "7e6b45cf",
   "metadata": {},
   "source": [
    "Negative Indexing\n",
    "\n",
    "Negative indexing means start from the end\n",
    "-1 refers to the last item, -2 refers to the second last item etc."
   ]
  },
  {
   "cell_type": "code",
   "execution_count": 10,
   "id": "b1757252",
   "metadata": {},
   "outputs": [
    {
     "name": "stdout",
     "output_type": "stream",
     "text": [
      "cycle\n",
      "car\n"
     ]
    }
   ],
   "source": [
    "x = list(('car','bike', 'cycle'))\n",
    "\n",
    "print(x[-1])\n",
    "print(x[-3])"
   ]
  },
  {
   "cell_type": "code",
   "execution_count": null,
   "id": "0e9ed1e6",
   "metadata": {},
   "outputs": [],
   "source": []
  },
  {
   "cell_type": "markdown",
   "id": "22d04eff",
   "metadata": {},
   "source": [
    "# Range of Indexes"
   ]
  },
  {
   "cell_type": "raw",
   "id": "17b8e3a0",
   "metadata": {},
   "source": [
    "You can specify a range of indexes by specifying where to start and where to end the range.\n",
    "\n",
    "When specifying a range, the return value will be a new list with the specified items."
   ]
  },
  {
   "cell_type": "code",
   "execution_count": 11,
   "id": "10bb21fe",
   "metadata": {},
   "outputs": [
    {
     "name": "stdout",
     "output_type": "stream",
     "text": [
      "Items from index 1 to last in list1:  ['b', 'c', 'd']\n",
      "Items from index 0 to 1 in list2:  [25.5, True]\n",
      "Items from index 2 to last in list3 [3, 4]\n",
      "Items from index 0 to index last in list4 ['Rohan', 'Physics', 21, 69.75]\n"
     ]
    }
   ],
   "source": [
    "list1 = [\"a\", \"b\", \"c\", \"d\"]\n",
    "list2 = [25.50, True, -55, 1+2j]\n",
    "list4 = [\"Rohan\", \"Physics\", 21, 69.75]\n",
    "list3 = [1, 2, 3, 4, 5]\n",
    "\n",
    "print (\"Items from index 1 to last in list1: \", list1[1:])\n",
    "print (\"Items from index 0 to 1 in list2: \", list2[:2])\n",
    "print (\"Items from index 2 to last in list3\", list3[2:-1])\n",
    "print (\"Items from index 0 to index last in list4\", list4[:])"
   ]
  },
  {
   "cell_type": "code",
   "execution_count": null,
   "id": "d6007995",
   "metadata": {},
   "outputs": [],
   "source": []
  },
  {
   "cell_type": "markdown",
   "id": "b8df4bb4",
   "metadata": {},
   "source": [
    "# Change List Items"
   ]
  },
  {
   "cell_type": "markdown",
   "id": "dfe90f6b",
   "metadata": {},
   "source": [
    "List is a mutable data type in Python. It means, the contents of list can be modified in place, after the object is stored in the memory. You can assign a new value at a given index position in the list\n",
    "\n"
   ]
  },
  {
   "cell_type": "code",
   "execution_count": 12,
   "id": "9a2c4d2f",
   "metadata": {},
   "outputs": [
    {
     "name": "stdout",
     "output_type": "stream",
     "text": [
      "Original list  [1, 2, 3, 4, 5]\n",
      "List after changing value at index 2:  [1, 2, 3, 4, 5]\n"
     ]
    }
   ],
   "source": [
    "list1 = [1, 2, 3, 4, 5]\n",
    "print (\"Original list \", list3)\n",
    "list1[2] = 10\n",
    "print (\"List after changing value at index 2: \", list3)"
   ]
  },
  {
   "cell_type": "raw",
   "id": "20adc6e9",
   "metadata": {},
   "source": [
    "Note: The length of the list will change when the number of items inserted does not match the number of items replaced."
   ]
  },
  {
   "cell_type": "code",
   "execution_count": 13,
   "id": "ecee28a2",
   "metadata": {},
   "outputs": [
    {
     "name": "stdout",
     "output_type": "stream",
     "text": [
      "['apple', 'blackcurrant', 'watermelon', 'cherry']\n"
     ]
    }
   ],
   "source": [
    "thislist = [\"apple\", \"banana\", \"cherry\"]\n",
    "thislist[1:2] = [\"blackcurrant\", \"watermelon\"]\n",
    "print(thislist)"
   ]
  },
  {
   "cell_type": "code",
   "execution_count": null,
   "id": "53dc9669",
   "metadata": {},
   "outputs": [],
   "source": []
  },
  {
   "cell_type": "markdown",
   "id": "176d1a9c",
   "metadata": {},
   "source": [
    "# Python Add List items"
   ]
  },
  {
   "cell_type": "markdown",
   "id": "532c4c1d",
   "metadata": {},
   "source": [
    "# append() method"
   ]
  },
  {
   "cell_type": "markdown",
   "id": "de377da9",
   "metadata": {},
   "source": [
    "The append() method adds the item at the end of an existing list."
   ]
  },
  {
   "cell_type": "code",
   "execution_count": 14,
   "id": "281654f3",
   "metadata": {},
   "outputs": [
    {
     "name": "stdout",
     "output_type": "stream",
     "text": [
      "Original list:  ['a', 'b', 'c', 'd']\n",
      "List after appending:  ['a', 'b', 'c', 'd', 'e']\n"
     ]
    }
   ],
   "source": [
    "list1 = [\"a\", \"b\", \"c\", \"d\"]\n",
    "print(\"Original list: \", list1)\n",
    "list1.append('e')\n",
    "print(\"List after appending: \", list1)"
   ]
  },
  {
   "cell_type": "code",
   "execution_count": null,
   "id": "fb7fd517",
   "metadata": {},
   "outputs": [],
   "source": []
  },
  {
   "cell_type": "markdown",
   "id": "1cae55a5",
   "metadata": {},
   "source": [
    "# insert() method"
   ]
  },
  {
   "cell_type": "markdown",
   "id": "d4562bae",
   "metadata": {},
   "source": [
    "The insert() method inserts the item at a specified index in the list."
   ]
  },
  {
   "cell_type": "code",
   "execution_count": 15,
   "id": "8d2ab466",
   "metadata": {},
   "outputs": [
    {
     "name": "stdout",
     "output_type": "stream",
     "text": [
      "Original list  ['Rohan', 'Physics', 21, 69.75]\n",
      "List after appending:  ['Rohan', 'Physics', 'Chemistry', 21, 69.75]\n"
     ]
    }
   ],
   "source": [
    "list1 = [\"Rohan\", \"Physics\", 21, 69.75]\n",
    "print (\"Original list \", list1)\n",
    "\n",
    "list1.insert(2, 'Chemistry')\n",
    "print (\"List after appending: \", list1)\n"
   ]
  },
  {
   "cell_type": "code",
   "execution_count": null,
   "id": "4047bb05",
   "metadata": {},
   "outputs": [],
   "source": []
  },
  {
   "cell_type": "markdown",
   "id": "e00b5a58",
   "metadata": {},
   "source": [
    "# extend() method"
   ]
  },
  {
   "cell_type": "markdown",
   "id": "4f8fc9bd",
   "metadata": {},
   "source": [
    "To append elements from another list to the current list, use the extend() method."
   ]
  },
  {
   "cell_type": "code",
   "execution_count": 16,
   "id": "a09caef4",
   "metadata": {},
   "outputs": [
    {
     "name": "stdout",
     "output_type": "stream",
     "text": [
      "['apple', 'banana', 'cherry', 'mango', 'pineapple', 'papaya']\n"
     ]
    }
   ],
   "source": [
    "thislist = [\"apple\", \"banana\", \"cherry\"]\n",
    "tropical = [\"mango\", \"pineapple\", \"papaya\"]\n",
    "thislist.extend(tropical)\n",
    "print(thislist)"
   ]
  },
  {
   "cell_type": "code",
   "execution_count": null,
   "id": "1cebb1f3",
   "metadata": {},
   "outputs": [],
   "source": []
  },
  {
   "cell_type": "markdown",
   "id": "e3127fd7",
   "metadata": {},
   "source": [
    "# Add any iterable "
   ]
  },
  {
   "cell_type": "markdown",
   "id": "29a4dfae",
   "metadata": {},
   "source": [
    "The extend() method does not have to append lists, you can add any iterable object (tuples, sets, dictionaries etc.)."
   ]
  },
  {
   "cell_type": "code",
   "execution_count": 17,
   "id": "de7de1d2",
   "metadata": {},
   "outputs": [
    {
     "name": "stdout",
     "output_type": "stream",
     "text": [
      "['apple', 'banana', 'cherry', 'kiwi', 'orange']\n"
     ]
    }
   ],
   "source": [
    "thislist = [\"apple\", \"banana\", \"cherry\"]\n",
    "thistuple = (\"kiwi\", \"orange\")\n",
    "thislist.extend(thistuple)\n",
    "print(thislist)"
   ]
  },
  {
   "cell_type": "code",
   "execution_count": null,
   "id": "e8e6e3af",
   "metadata": {},
   "outputs": [],
   "source": []
  },
  {
   "cell_type": "markdown",
   "id": "15369577",
   "metadata": {},
   "source": [
    "# Python Remove list items"
   ]
  },
  {
   "cell_type": "markdown",
   "id": "94591eaf",
   "metadata": {},
   "source": [
    "# remove() method"
   ]
  },
  {
   "cell_type": "markdown",
   "id": "5c629c38",
   "metadata": {},
   "source": [
    "The remove() method removes the specified item.\n",
    "\n",
    "Note: If there are more than one item with the specified value, the remove() method removes the first occurance"
   ]
  },
  {
   "cell_type": "code",
   "execution_count": 18,
   "id": "6ebef1e7",
   "metadata": {},
   "outputs": [
    {
     "name": "stdout",
     "output_type": "stream",
     "text": [
      "['apple', 'cherry']\n"
     ]
    }
   ],
   "source": [
    "thislist = [\"apple\", \"banana\", \"cherry\"]\n",
    "thislist.remove(\"banana\")\n",
    "print(thislist)"
   ]
  },
  {
   "cell_type": "code",
   "execution_count": 19,
   "id": "889bdb10",
   "metadata": {},
   "outputs": [
    {
     "name": "stdout",
     "output_type": "stream",
     "text": [
      "['apple', 'cherry', 'banana', 'kiwi']\n"
     ]
    }
   ],
   "source": [
    "thislist = [\"apple\", \"banana\", \"cherry\", \"banana\", \"kiwi\"]\n",
    "thislist.remove(\"banana\")\n",
    "print(thislist)"
   ]
  },
  {
   "cell_type": "code",
   "execution_count": null,
   "id": "17e63251",
   "metadata": {},
   "outputs": [],
   "source": []
  },
  {
   "cell_type": "markdown",
   "id": "b8525dd6",
   "metadata": {},
   "source": [
    "# pop() method "
   ]
  },
  {
   "cell_type": "markdown",
   "id": "a1ac8ef6",
   "metadata": {},
   "source": [
    "The pop() method removes the specified index.\n",
    "\n",
    "If you do not specify the index, the pop() method removes the last item."
   ]
  },
  {
   "cell_type": "code",
   "execution_count": 20,
   "id": "c854cd54",
   "metadata": {},
   "outputs": [
    {
     "name": "stdout",
     "output_type": "stream",
     "text": [
      "['apple', 'banana']\n"
     ]
    }
   ],
   "source": [
    "thislist = [\"apple\", \"banana\", \"cherry\"]\n",
    "thislist.pop()\n",
    "print(thislist)"
   ]
  },
  {
   "cell_type": "code",
   "execution_count": 21,
   "id": "26a47e57",
   "metadata": {},
   "outputs": [
    {
     "name": "stdout",
     "output_type": "stream",
     "text": [
      "['apple', 'cherry']\n"
     ]
    }
   ],
   "source": [
    "# removing 2nd element\n",
    "\n",
    "thislist = [\"apple\", \"banana\", \"cherry\"]\n",
    "thislist.pop(1)\n",
    "print(thislist)"
   ]
  },
  {
   "cell_type": "code",
   "execution_count": null,
   "id": "31becb05",
   "metadata": {},
   "outputs": [],
   "source": []
  },
  {
   "cell_type": "markdown",
   "id": "0a9ce945",
   "metadata": {},
   "source": [
    "# del keyword"
   ]
  },
  {
   "cell_type": "markdown",
   "id": "6d424d08",
   "metadata": {},
   "source": [
    "The del keyword can also removes the specific index and delete the list completely."
   ]
  },
  {
   "cell_type": "code",
   "execution_count": 22,
   "id": "d3181eea",
   "metadata": {},
   "outputs": [
    {
     "name": "stdout",
     "output_type": "stream",
     "text": [
      "['banana', 'cherry']\n"
     ]
    }
   ],
   "source": [
    "# removing the first item\n",
    "\n",
    "thislist = [\"apple\", \"banana\", \"cherry\"]\n",
    "del thislist[0]\n",
    "print(thislist)"
   ]
  },
  {
   "cell_type": "code",
   "execution_count": 23,
   "id": "b0ab59e8",
   "metadata": {},
   "outputs": [
    {
     "ename": "NameError",
     "evalue": "name 'thislist' is not defined",
     "output_type": "error",
     "traceback": [
      "\u001b[1;31m---------------------------------------------------------------------------\u001b[0m",
      "\u001b[1;31mNameError\u001b[0m                                 Traceback (most recent call last)",
      "Input \u001b[1;32mIn [23]\u001b[0m, in \u001b[0;36m<cell line: 6>\u001b[1;34m()\u001b[0m\n\u001b[0;32m      3\u001b[0m thislist \u001b[38;5;241m=\u001b[39m [\u001b[38;5;124m\"\u001b[39m\u001b[38;5;124mapple\u001b[39m\u001b[38;5;124m\"\u001b[39m, \u001b[38;5;124m\"\u001b[39m\u001b[38;5;124mbanana\u001b[39m\u001b[38;5;124m\"\u001b[39m, \u001b[38;5;124m\"\u001b[39m\u001b[38;5;124mcherry\u001b[39m\u001b[38;5;124m\"\u001b[39m]\n\u001b[0;32m      4\u001b[0m \u001b[38;5;28;01mdel\u001b[39;00m thislist\n\u001b[1;32m----> 6\u001b[0m \u001b[38;5;28mprint\u001b[39m(\u001b[43mthislist\u001b[49m)\n",
      "\u001b[1;31mNameError\u001b[0m: name 'thislist' is not defined"
     ]
    }
   ],
   "source": [
    "# delete the entire list\n",
    "\n",
    "thislist = [\"apple\", \"banana\", \"cherry\"]\n",
    "del thislist\n",
    "\n",
    "print(thislist)"
   ]
  },
  {
   "cell_type": "code",
   "execution_count": null,
   "id": "7032b56c",
   "metadata": {},
   "outputs": [],
   "source": []
  },
  {
   "cell_type": "markdown",
   "id": "6054dfc4",
   "metadata": {},
   "source": [
    "# clear() method"
   ]
  },
  {
   "cell_type": "markdown",
   "id": "d679ec99",
   "metadata": {},
   "source": [
    "The clear() method empties the list.\n",
    "\n",
    "The list still remains, but it has no content."
   ]
  },
  {
   "cell_type": "code",
   "execution_count": 24,
   "id": "f38f9447",
   "metadata": {},
   "outputs": [
    {
     "name": "stdout",
     "output_type": "stream",
     "text": [
      "[]\n"
     ]
    }
   ],
   "source": [
    "thislist = [\"apple\", \"banana\", \"cherry\"]\n",
    "thislist.clear()\n",
    "print(thislist)"
   ]
  },
  {
   "cell_type": "code",
   "execution_count": null,
   "id": "81fdf72d",
   "metadata": {},
   "outputs": [],
   "source": []
  },
  {
   "cell_type": "markdown",
   "id": "4ea82f02",
   "metadata": {},
   "source": [
    "# Loop Lists"
   ]
  },
  {
   "cell_type": "markdown",
   "id": "6e9a5e23",
   "metadata": {},
   "source": [
    "You can traverse the items in a list with Python's for loop construct. The traversal can be done, using list as an iterator or with the help of index."
   ]
  },
  {
   "cell_type": "code",
   "execution_count": 27,
   "id": "4d81450b",
   "metadata": {},
   "outputs": [
    {
     "name": "stdout",
     "output_type": "stream",
     "text": [
      "25 12 10 -21 10 100 "
     ]
    }
   ],
   "source": [
    "# example\n",
    "\n",
    "lst = [25, 12, 10, -21, 10, 100]\n",
    "for num in lst:\n",
    "    print (num, end = ' ')"
   ]
  },
  {
   "cell_type": "code",
   "execution_count": 28,
   "id": "6aad8c20",
   "metadata": {},
   "outputs": [
    {
     "name": "stdout",
     "output_type": "stream",
     "text": [
      "lst[0]:  25\n",
      "lst[1]:  12\n",
      "lst[2]:  10\n",
      "lst[3]:  -21\n",
      "lst[4]:  10\n",
      "lst[5]:  100\n"
     ]
    }
   ],
   "source": [
    "# example \n",
    "\n",
    "lst = [25, 12, 10, -21, 10, 100]\n",
    "indices = range(len(lst))\n",
    "for i in indices:\n",
    "    print (\"lst[{}]: \".format(i), lst[i])"
   ]
  },
  {
   "cell_type": "code",
   "execution_count": 29,
   "id": "a9f5bd3a",
   "metadata": {},
   "outputs": [
    {
     "name": "stdout",
     "output_type": "stream",
     "text": [
      "apple\n",
      "banana\n",
      "cherry\n"
     ]
    }
   ],
   "source": [
    "# Using While loop\n",
    "\n",
    "thislist = [\"apple\", \"banana\", \"cherry\"]\n",
    "i = 0\n",
    "while i < len(thislist):\n",
    "    print(thislist[i])\n",
    "    i = i + 1"
   ]
  },
  {
   "cell_type": "code",
   "execution_count": null,
   "id": "fd747607",
   "metadata": {},
   "outputs": [],
   "source": []
  },
  {
   "cell_type": "markdown",
   "id": "8c951e5c",
   "metadata": {},
   "source": [
    "# List Comprehension"
   ]
  },
  {
   "cell_type": "markdown",
   "id": "4a542585",
   "metadata": {},
   "source": [
    "List comprehension is a very powerful programming tool. It is similar to set builder notation in mathematics. It is a concise way to create new list by performing some kind of process on each item on existing list. List comprehension is considerably faster than processing a list by for loop."
   ]
  },
  {
   "cell_type": "code",
   "execution_count": 31,
   "id": "d2d5aec5",
   "metadata": {},
   "outputs": [
    {
     "name": "stdout",
     "output_type": "stream",
     "text": [
      "car\n",
      "bike\n",
      "truck\n"
     ]
    },
    {
     "data": {
      "text/plain": [
       "[None, None, None]"
      ]
     },
     "execution_count": 31,
     "metadata": {},
     "output_type": "execute_result"
    }
   ],
   "source": [
    "# example\n",
    "\n",
    "mylist = [\"car\", \"bike\", \"truck\"]\n",
    "[print(x) for x in mylist]"
   ]
  },
  {
   "cell_type": "code",
   "execution_count": 32,
   "id": "b2bb4a9c",
   "metadata": {},
   "outputs": [
    {
     "name": "stdout",
     "output_type": "stream",
     "text": [
      "[1, 4, 9, 16, 25, 36, 49, 64, 81, 100]\n"
     ]
    }
   ],
   "source": [
    "# example\n",
    "\n",
    "squares = [x*x for x in range(1,11)]\n",
    "print (squares)"
   ]
  },
  {
   "cell_type": "code",
   "execution_count": null,
   "id": "a4a5d82a",
   "metadata": {},
   "outputs": [],
   "source": []
  },
  {
   "cell_type": "markdown",
   "id": "f31a3f39",
   "metadata": {},
   "source": [
    "# Nested Loops in List Comprehension"
   ]
  },
  {
   "cell_type": "code",
   "execution_count": 33,
   "id": "ac51f10a",
   "metadata": {},
   "outputs": [
    {
     "name": "stdout",
     "output_type": "stream",
     "text": [
      "[(1, 4), (1, 5), (1, 6), (2, 4), (2, 5), (2, 6), (3, 4), (3, 5), (3, 6)]\n"
     ]
    }
   ],
   "source": [
    "#example\n",
    "\n",
    "list1=[1,2,3]\n",
    "list2=[4,5,6]\n",
    "CombLst=[(x,y) for x in list1 for y in list2]\n",
    "print (CombLst)"
   ]
  },
  {
   "cell_type": "code",
   "execution_count": null,
   "id": "098a4a5e",
   "metadata": {},
   "outputs": [],
   "source": []
  },
  {
   "cell_type": "markdown",
   "id": "39f53ee8",
   "metadata": {},
   "source": [
    "# Condition in List Comprehension"
   ]
  },
  {
   "cell_type": "code",
   "execution_count": 34,
   "id": "f9e41475",
   "metadata": {},
   "outputs": [
    {
     "name": "stdout",
     "output_type": "stream",
     "text": [
      "[2, 4, 6, 8, 10, 12, 14, 16, 18, 20]\n"
     ]
    }
   ],
   "source": [
    "#example\n",
    "\n",
    "list1=[x for x in range(1,21) if x%2==0]\n",
    "print (list1)"
   ]
  },
  {
   "cell_type": "code",
   "execution_count": null,
   "id": "bb6570f5",
   "metadata": {},
   "outputs": [],
   "source": []
  },
  {
   "cell_type": "markdown",
   "id": "b0bcc9c0",
   "metadata": {},
   "source": [
    "# Sort Lists"
   ]
  },
  {
   "cell_type": "markdown",
   "id": "123cf835",
   "metadata": {},
   "source": [
    "The sort() method of list class rearranges the items in ascending or descending order with the use of lexicographical ordering mechanism. The sorting is in-place, in the sense the rearrangement takes place in the same list object, and that it doesn't return a new object."
   ]
  },
  {
   "cell_type": "code",
   "execution_count": 35,
   "id": "20e2c553",
   "metadata": {},
   "outputs": [
    {
     "name": "stdout",
     "output_type": "stream",
     "text": [
      "['banana', 'kiwi', 'mango', 'orange', 'pineapple']\n"
     ]
    }
   ],
   "source": [
    "# example\n",
    "\n",
    "thislist = [\"orange\", \"mango\", \"kiwi\", \"pineapple\", \"banana\"]\n",
    "thislist.sort()\n",
    "print(thislist)"
   ]
  },
  {
   "cell_type": "code",
   "execution_count": 37,
   "id": "beff183b",
   "metadata": {},
   "outputs": [
    {
     "name": "stdout",
     "output_type": "stream",
     "text": [
      "list before sort [10, 16, 9, 24, 5]\n",
      "list after sort :  [5, 9, 10, 16, 24]\n"
     ]
    }
   ],
   "source": [
    "# example\n",
    "\n",
    "\n",
    "list2 = [10,16, 9, 24, 5]\n",
    "print (\"list before sort\", list2)\n",
    "list2.sort()\n",
    "print (\"list after sort : \", list2)"
   ]
  },
  {
   "cell_type": "code",
   "execution_count": null,
   "id": "55da1bda",
   "metadata": {},
   "outputs": [],
   "source": []
  },
  {
   "cell_type": "markdown",
   "id": "ce647f70",
   "metadata": {},
   "source": [
    "#  Sort Descending"
   ]
  },
  {
   "cell_type": "markdown",
   "id": "6a46ef93",
   "metadata": {},
   "source": [
    "To sort descending, use the keyword argument reverse = True"
   ]
  },
  {
   "cell_type": "code",
   "execution_count": 38,
   "id": "60b31c48",
   "metadata": {},
   "outputs": [
    {
     "name": "stdout",
     "output_type": "stream",
     "text": [
      "[100, 82, 65, 50, 23]\n"
     ]
    }
   ],
   "source": [
    "thislist = [100, 50, 65, 82, 23]\n",
    "thislist.sort(reverse = True)\n",
    "print(thislist)"
   ]
  },
  {
   "cell_type": "code",
   "execution_count": null,
   "id": "c68530d9",
   "metadata": {},
   "outputs": [],
   "source": []
  },
  {
   "cell_type": "markdown",
   "id": "3b917707",
   "metadata": {},
   "source": [
    "# Case Insensitive Sort"
   ]
  },
  {
   "cell_type": "markdown",
   "id": "60143d7c",
   "metadata": {},
   "source": [
    "By default the sort() method is case sensitive, resulting in all capital letters being sorted before lower case letters.\n",
    "\n",
    "Luckily we can use built-in functions as key functions when sorting a list.\n",
    "\n",
    "So if you want a case-insensitive sort function, use str.lower as a key function."
   ]
  },
  {
   "cell_type": "code",
   "execution_count": 40,
   "id": "a71778e1",
   "metadata": {},
   "outputs": [
    {
     "name": "stdout",
     "output_type": "stream",
     "text": [
      "['Kiwi', 'Orange', 'banana', 'cherry']\n"
     ]
    }
   ],
   "source": [
    "#example \n",
    "\n",
    "# simple sort\n",
    "\n",
    "thislist = [\"banana\", \"Orange\", \"Kiwi\", \"cherry\"]\n",
    "thislist.sort()\n",
    "print(thislist)"
   ]
  },
  {
   "cell_type": "code",
   "execution_count": 41,
   "id": "e664875f",
   "metadata": {},
   "outputs": [
    {
     "name": "stdout",
     "output_type": "stream",
     "text": [
      "['banana', 'cherry', 'Kiwi', 'Orange']\n"
     ]
    }
   ],
   "source": [
    "#example \n",
    "\n",
    "# sort using key = str.lower\n",
    "\n",
    "thislist = [\"banana\", \"Orange\", \"Kiwi\", \"cherry\"]\n",
    "thislist.sort(key = str.lower)\n",
    "print(thislist)"
   ]
  },
  {
   "cell_type": "code",
   "execution_count": null,
   "id": "8075e35f",
   "metadata": {},
   "outputs": [],
   "source": []
  },
  {
   "cell_type": "markdown",
   "id": "a1d4c91b",
   "metadata": {},
   "source": [
    "# Reverse Order"
   ]
  },
  {
   "cell_type": "markdown",
   "id": "3b211979",
   "metadata": {},
   "source": [
    " The reverse() method reverses the current sorting order of the elements."
   ]
  },
  {
   "cell_type": "code",
   "execution_count": 42,
   "id": "6b8520b9",
   "metadata": {},
   "outputs": [
    {
     "name": "stdout",
     "output_type": "stream",
     "text": [
      "['cherry', 'Kiwi', 'Orange', 'banana']\n"
     ]
    }
   ],
   "source": [
    "# example\n",
    "\n",
    "thislist = [\"banana\", \"Orange\", \"Kiwi\", \"cherry\"]\n",
    "thislist.reverse()\n",
    "print(thislist)"
   ]
  },
  {
   "cell_type": "code",
   "execution_count": null,
   "id": "9890c0b2",
   "metadata": {},
   "outputs": [],
   "source": []
  },
  {
   "cell_type": "markdown",
   "id": "3ee68e02",
   "metadata": {},
   "source": [
    "# List Copy"
   ]
  },
  {
   "cell_type": "code",
   "execution_count": 45,
   "id": "f6fc9876",
   "metadata": {},
   "outputs": [
    {
     "name": "stdout",
     "output_type": "stream",
     "text": [
      "lst: [10, 20] id(lst): 1603879171008\n",
      "lst1: [10, 20] id(lst1): 1603879171008\n"
     ]
    }
   ],
   "source": [
    "# example\n",
    "\n",
    "lst = [10, 20]\n",
    "print (\"lst:\", lst, \"id(lst):\",id(lst))\n",
    "lst1 = lst\n",
    "print (\"lst1:\", lst1, \"id(lst1):\",id(lst1))"
   ]
  },
  {
   "cell_type": "markdown",
   "id": "e8bd2100",
   "metadata": {},
   "source": [
    "In Python, a variable is just a label or reference to the object in the memory. Hence, the assignment \"lst1 = lst\" refers to the same list object in the memory.\n",
    "\n",
    "As a result, if we update \"lst\", it will automatically reflect in \"lst1\". Change lst[0] to 100"
   ]
  },
  {
   "cell_type": "markdown",
   "id": "953e96c1",
   "metadata": {},
   "source": [
    "# copy() method"
   ]
  },
  {
   "cell_type": "code",
   "execution_count": 43,
   "id": "12b19f7b",
   "metadata": {},
   "outputs": [
    {
     "name": "stdout",
     "output_type": "stream",
     "text": [
      "['apple', 'banana', 'cherry']\n"
     ]
    }
   ],
   "source": [
    "# example \n",
    "\n",
    "thislist = [\"apple\", \"banana\", \"cherry\"]\n",
    "mylist = thislist.copy()\n",
    "print(mylist)"
   ]
  },
  {
   "cell_type": "code",
   "execution_count": null,
   "id": "80448684",
   "metadata": {},
   "outputs": [],
   "source": []
  },
  {
   "cell_type": "markdown",
   "id": "c0061776",
   "metadata": {},
   "source": [
    "# list() method"
   ]
  },
  {
   "cell_type": "code",
   "execution_count": 44,
   "id": "bc3ad9ba",
   "metadata": {},
   "outputs": [
    {
     "name": "stdout",
     "output_type": "stream",
     "text": [
      "['apple', 'banana', 'cherry']\n"
     ]
    }
   ],
   "source": [
    "# example\n",
    "\n",
    "thislist = [\"apple\", \"banana\", \"cherry\"]\n",
    "mylist = list(thislist)\n",
    "print(mylist)"
   ]
  },
  {
   "cell_type": "code",
   "execution_count": null,
   "id": "aee093cb",
   "metadata": {},
   "outputs": [],
   "source": []
  },
  {
   "cell_type": "markdown",
   "id": "9dcbed8e",
   "metadata": {},
   "source": [
    "# Join Lists"
   ]
  },
  {
   "cell_type": "markdown",
   "id": "40e30692",
   "metadata": {},
   "source": [
    "There are several ways to join, or concatenate, two or more lists in Python.\n",
    "\n",
    "One of the easiest ways are by using the + operator.\n",
    "List is classified as a sequence type object. It is a collection of items, which may be of different data types, with each item having a positional index starting with 0. You can use different ways to join two Python lists.\n",
    "\n",
    "All the sequence type objects support concatenation operator, with which two lists can be joined.\n",
    "\n"
   ]
  },
  {
   "cell_type": "markdown",
   "id": "5f9cb64f",
   "metadata": {},
   "source": [
    "# + "
   ]
  },
  {
   "cell_type": "code",
   "execution_count": 46,
   "id": "3afa336e",
   "metadata": {},
   "outputs": [
    {
     "name": "stdout",
     "output_type": "stream",
     "text": [
      "Joined list: [10, 20, 30, 40, 'one', 'two', 'three', 'four']\n"
     ]
    }
   ],
   "source": [
    "# eample\n",
    "\n",
    "L1 = [10,20,30,40]\n",
    "L2 = ['one', 'two', 'three', 'four']\n",
    "L3 = L1+L2\n",
    "print (\"Joined list:\", L3)"
   ]
  },
  {
   "cell_type": "code",
   "execution_count": null,
   "id": "199eb127",
   "metadata": {},
   "outputs": [],
   "source": []
  },
  {
   "cell_type": "markdown",
   "id": "88ab8db4",
   "metadata": {},
   "source": [
    "# +="
   ]
  },
  {
   "cell_type": "code",
   "execution_count": 47,
   "id": "b7ea9f40",
   "metadata": {},
   "outputs": [
    {
     "name": "stdout",
     "output_type": "stream",
     "text": [
      "Joined list: [10, 20, 30, 40, 'one', 'two', 'three', 'four']\n"
     ]
    }
   ],
   "source": [
    "# example\n",
    "\n",
    "L1 = [10,20,30,40]\n",
    "L2 = ['one', 'two', 'three', 'four']\n",
    "L1+=L2\n",
    "print (\"Joined list:\", L1)"
   ]
  },
  {
   "cell_type": "code",
   "execution_count": null,
   "id": "bb08ee03",
   "metadata": {},
   "outputs": [],
   "source": []
  },
  {
   "cell_type": "markdown",
   "id": "4692639d",
   "metadata": {},
   "source": [
    "# using extend()"
   ]
  },
  {
   "cell_type": "code",
   "execution_count": 48,
   "id": "cf0c2ed5",
   "metadata": {},
   "outputs": [
    {
     "name": "stdout",
     "output_type": "stream",
     "text": [
      "Joined list: [10, 20, 30, 40, 'one', 'two', 'three', 'four']\n"
     ]
    }
   ],
   "source": [
    "# example\n",
    "\n",
    "L1 = [10,20,30,40]\n",
    "L2 = ['one', 'two', 'three', 'four']\n",
    "L1.extend(L2)\n",
    "print (\"Joined list:\", L1)"
   ]
  },
  {
   "cell_type": "code",
   "execution_count": null,
   "id": "c2964a78",
   "metadata": {},
   "outputs": [],
   "source": []
  },
  {
   "cell_type": "markdown",
   "id": "b82855d7",
   "metadata": {},
   "source": [
    "# using append()"
   ]
  },
  {
   "cell_type": "code",
   "execution_count": 49,
   "id": "196776d0",
   "metadata": {},
   "outputs": [
    {
     "name": "stdout",
     "output_type": "stream",
     "text": [
      "['a', 'b', 'c', 1, 2, 3]\n"
     ]
    }
   ],
   "source": [
    "# example\n",
    "\n",
    "list1 = [\"a\", \"b\" , \"c\"]\n",
    "list2 = [1, 2, 3]\n",
    "\n",
    "for x in list2:\n",
    "    list1.append(x)\n",
    "\n",
    "print(list1)"
   ]
  },
  {
   "cell_type": "code",
   "execution_count": null,
   "id": "9586a7a0",
   "metadata": {},
   "outputs": [],
   "source": []
  },
  {
   "cell_type": "code",
   "execution_count": null,
   "id": "b9e9e44e",
   "metadata": {},
   "outputs": [],
   "source": []
  },
  {
   "attachments": {
    "image.png": {
     "image/png": "[encoded data removed]"
    }
   },
   "cell_type": "markdown",
   "id": "59188aa5",
   "metadata": {},
   "source": [
    "![image.png](attachment:image.png)"
   ]
  }
 ],
 "metadata": {
  "kernelspec": {
   "display_name": "Python 3 (ipykernel)",
   "language": "python",
   "name": "python3"
  },
  "language_info": {
   "codemirror_mode": {
    "name": "ipython",
    "version": 3
   },
   "file_extension": ".py",
   "mimetype": "text/x-python",
   "name": "python",
   "nbconvert_exporter": "python",
   "pygments_lexer": "ipython3",
   "version": "3.9.12"
  }
 },
 "nbformat": 4,
 "nbformat_minor": 5
}
