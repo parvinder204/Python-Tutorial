{
 "cells": [
  {
   "cell_type": "markdown",
   "id": "8dbe6a95",
   "metadata": {},
   "source": [
    "# Welcome to Python 3.7"
   ]
  },
  {
   "cell_type": "markdown",
   "id": "ebd1b8d4",
   "metadata": {},
   "source": [
    "Tuple: In Built Function"
   ]
  },
  {
   "cell_type": "markdown",
   "id": "2426df1f",
   "metadata": {},
   "source": [
    "# Tuple"
   ]
  },
  {
   "cell_type": "markdown",
   "id": "665e5358",
   "metadata": {},
   "source": [
    "A tuple is a collection which is ordered and unchangeable."
   ]
  },
  {
   "cell_type": "markdown",
   "id": "7b592cdf",
   "metadata": {},
   "source": [
    "Tuple is one of the built-in data types in Python. A Python tuple is a sequence of comma separated items, enclosed in parentheses (). The items in a Python tuple need not be of same data type."
   ]
  },
  {
   "cell_type": "code",
   "execution_count": 2,
   "id": "b3838e44",
   "metadata": {},
   "outputs": [
    {
     "name": "stdout",
     "output_type": "stream",
     "text": [
      "('Rohan', 'Physics', 21, 69.75)\n",
      "(1, 2, 3, 4, 5)\n",
      "('a', 'b', 'c', 'd')\n",
      "(25.5, True, -55, (1+2j))\n"
     ]
    }
   ],
   "source": [
    "# Some example of tuple\n",
    "\n",
    "tup1 = (\"Rohan\", \"Physics\", 21, 69.75)\n",
    "tup2 = (1, 2, 3, 4, 5)\n",
    "tup3 = (\"a\", \"b\", \"c\", \"d\")\n",
    "tup4 = (25.50, True, -55, 1+2j)\n",
    "\n",
    "print(tup1)\n",
    "print(tup2)\n",
    "print(tup3)\n",
    "print(tup4)"
   ]
  },
  {
   "cell_type": "markdown",
   "id": "8798d723",
   "metadata": {},
   "source": [
    "# Tuple Items"
   ]
  },
  {
   "cell_type": "markdown",
   "id": "4feed7d2",
   "metadata": {},
   "source": [
    "Tuple items are ordered, unchangeable, and allow duplicate values.\n",
    "\n",
    "Tuple items are indexed, the first item has index [0], the second item has index [1] etc."
   ]
  },
  {
   "cell_type": "markdown",
   "id": "5b13d97a",
   "metadata": {},
   "source": [
    "# Ordered"
   ]
  },
  {
   "cell_type": "markdown",
   "id": "f502a8ef",
   "metadata": {},
   "source": [
    "Tuple items have a defined order, and that order will not change."
   ]
  },
  {
   "cell_type": "markdown",
   "id": "09aaad2a",
   "metadata": {},
   "source": [
    "# Unchangeable"
   ]
  },
  {
   "cell_type": "markdown",
   "id": "7696ae6b",
   "metadata": {},
   "source": [
    "Tuples are unchangeable, meaning that we cannot change, add or remove items after the tuple has been created."
   ]
  },
  {
   "cell_type": "markdown",
   "id": "a1a35536",
   "metadata": {},
   "source": [
    "# Allow Duplicates"
   ]
  },
  {
   "cell_type": "markdown",
   "id": "be5aadad",
   "metadata": {},
   "source": [
    "Since tuples are indexed, they can have items with the same value."
   ]
  },
  {
   "cell_type": "code",
   "execution_count": 3,
   "id": "53c2aa17",
   "metadata": {},
   "outputs": [
    {
     "name": "stdout",
     "output_type": "stream",
     "text": [
      "('car', 'bike', 'cycle', 'car', 'cycle')\n"
     ]
    }
   ],
   "source": [
    "thistuple = (\"car\", \"bike\", \"cycle\", \"car\", \"cycle\")\n",
    "print(thistuple)"
   ]
  },
  {
   "cell_type": "markdown",
   "id": "0543f71c",
   "metadata": {},
   "source": [
    "# Tuple Length"
   ]
  },
  {
   "cell_type": "markdown",
   "id": "f1914ff1",
   "metadata": {},
   "source": [
    "To determine how many items a tuple has, use the len() function"
   ]
  },
  {
   "cell_type": "code",
   "execution_count": 4,
   "id": "300527ed",
   "metadata": {},
   "outputs": [
    {
     "name": "stdout",
     "output_type": "stream",
     "text": [
      "5\n"
     ]
    }
   ],
   "source": [
    "thistuple = (\"car\", \"bike\", \"cycle\", \"car\", \"cycle\")\n",
    "print(len(thistuple))"
   ]
  },
  {
   "cell_type": "markdown",
   "id": "f20e44f1",
   "metadata": {},
   "source": [
    "# Tuple Items - Data Types"
   ]
  },
  {
   "cell_type": "markdown",
   "id": "99bb18ca",
   "metadata": {},
   "source": [
    "Tuple items can be of any data type."
   ]
  },
  {
   "cell_type": "code",
   "execution_count": 5,
   "id": "f4387f79",
   "metadata": {},
   "outputs": [],
   "source": [
    "tuple1 = (\"apple\", \"banana\", \"cherry\")\n",
    "tuple2 = (1, 5, 7, 9, 3)\n",
    "tuple3 = (True, False, False)"
   ]
  },
  {
   "cell_type": "code",
   "execution_count": 6,
   "id": "753e5772",
   "metadata": {},
   "outputs": [],
   "source": [
    "tuple1 = (\"abc\", 34, True, 40, \"male\")"
   ]
  },
  {
   "cell_type": "markdown",
   "id": "d287f8a8",
   "metadata": {},
   "source": [
    "# Tuple type()"
   ]
  },
  {
   "cell_type": "markdown",
   "id": "4148b9d1",
   "metadata": {},
   "source": [
    "From Python's perspective, tuples are defined as objects with the data type 'tuple'."
   ]
  },
  {
   "cell_type": "code",
   "execution_count": 8,
   "id": "df34c030",
   "metadata": {},
   "outputs": [
    {
     "name": "stdout",
     "output_type": "stream",
     "text": [
      "<class 'tuple'>\n"
     ]
    }
   ],
   "source": [
    "thistuple = (\"car\", \"bike\", \"cycle\", \"car\", \"cycle\")\n",
    "print(type(thistuple))"
   ]
  },
  {
   "cell_type": "code",
   "execution_count": null,
   "id": "6f6e9fa8",
   "metadata": {},
   "outputs": [],
   "source": []
  },
  {
   "cell_type": "markdown",
   "id": "b51cedca",
   "metadata": {},
   "source": [
    "# Access Tuple Items"
   ]
  },
  {
   "cell_type": "markdown",
   "id": "e7401fbf",
   "metadata": {},
   "source": [
    "In Python, Tuple is a sequence. Each object in the list is accessible with its index. The index starts from \"0\". Index or the last item in the tuple is \"length-1\". To access values in tuples, use the square brackets for slicing along with the index or indices to obtain value available at that index."
   ]
  },
  {
   "cell_type": "code",
   "execution_count": 9,
   "id": "14f93a8e",
   "metadata": {},
   "outputs": [],
   "source": [
    "tup1 = (\"car\", \"bike\", \"cycle\", \"truck\")"
   ]
  },
  {
   "cell_type": "code",
   "execution_count": 11,
   "id": "1261fac7",
   "metadata": {},
   "outputs": [
    {
     "name": "stdout",
     "output_type": "stream",
     "text": [
      "car\n"
     ]
    }
   ],
   "source": [
    "print(tup1[0])"
   ]
  },
  {
   "cell_type": "code",
   "execution_count": 13,
   "id": "430ed9f7",
   "metadata": {},
   "outputs": [
    {
     "name": "stdout",
     "output_type": "stream",
     "text": [
      "truck\n"
     ]
    }
   ],
   "source": [
    "print(tup1[3])"
   ]
  },
  {
   "cell_type": "markdown",
   "id": "60130a8b",
   "metadata": {},
   "source": [
    "# Negative Indexing"
   ]
  },
  {
   "cell_type": "markdown",
   "id": "62d48a2d",
   "metadata": {},
   "source": [
    "Negative indexing means start from the end.\n",
    "\n",
    "-1 refers to the last item, -2 refers to the second last item etc."
   ]
  },
  {
   "cell_type": "code",
   "execution_count": 14,
   "id": "87627a53",
   "metadata": {},
   "outputs": [
    {
     "name": "stdout",
     "output_type": "stream",
     "text": [
      "truck\n"
     ]
    }
   ],
   "source": [
    "print(tup1[-1])"
   ]
  },
  {
   "cell_type": "code",
   "execution_count": 16,
   "id": "4a8bf675",
   "metadata": {},
   "outputs": [
    {
     "name": "stdout",
     "output_type": "stream",
     "text": [
      "bike\n"
     ]
    }
   ],
   "source": [
    "print(tup1[-3])"
   ]
  },
  {
   "cell_type": "code",
   "execution_count": null,
   "id": "a58c01d5",
   "metadata": {},
   "outputs": [],
   "source": []
  },
  {
   "cell_type": "markdown",
   "id": "3841f527",
   "metadata": {},
   "source": [
    "# Range of Indexes"
   ]
  },
  {
   "cell_type": "markdown",
   "id": "cddb78da",
   "metadata": {},
   "source": [
    "You can specify a range of indexes by specifying where to start and where to end the range.\n",
    "\n",
    "When specifying a range, the return value will be a new tuple with the specified items."
   ]
  },
  {
   "cell_type": "code",
   "execution_count": 17,
   "id": "9c3a7c63",
   "metadata": {},
   "outputs": [],
   "source": [
    "tup1 = (\"car\", \"bike\", \"cycle\", \"truck\", \"train\")"
   ]
  },
  {
   "cell_type": "code",
   "execution_count": 18,
   "id": "7d6cebcc",
   "metadata": {},
   "outputs": [
    {
     "name": "stdout",
     "output_type": "stream",
     "text": [
      "('cycle', 'truck', 'train')\n"
     ]
    }
   ],
   "source": [
    "print(tup1[2:])"
   ]
  },
  {
   "cell_type": "code",
   "execution_count": 19,
   "id": "47cfa541",
   "metadata": {},
   "outputs": [
    {
     "name": "stdout",
     "output_type": "stream",
     "text": [
      "('car', 'bike', 'cycle', 'truck', 'train')\n"
     ]
    }
   ],
   "source": [
    "print(tup1[:])"
   ]
  },
  {
   "cell_type": "code",
   "execution_count": 22,
   "id": "f4319d17",
   "metadata": {},
   "outputs": [
    {
     "name": "stdout",
     "output_type": "stream",
     "text": [
      "('car', 'bike', 'cycle')\n"
     ]
    }
   ],
   "source": [
    "print(tup1[:3])"
   ]
  },
  {
   "cell_type": "code",
   "execution_count": null,
   "id": "c7e5f069",
   "metadata": {},
   "outputs": [],
   "source": []
  },
  {
   "cell_type": "markdown",
   "id": "92fd7df6",
   "metadata": {},
   "source": [
    "# Range of Negative Indexes"
   ]
  },
  {
   "cell_type": "markdown",
   "id": "1d2e90ca",
   "metadata": {},
   "source": [
    "Specify negative indexes if you want to start the search from the end of the tuple"
   ]
  },
  {
   "cell_type": "code",
   "execution_count": 23,
   "id": "9338007a",
   "metadata": {},
   "outputs": [],
   "source": [
    "tup1 = (\"car\", \"bike\", \"cycle\", \"truck\", \"train\")"
   ]
  },
  {
   "cell_type": "code",
   "execution_count": 24,
   "id": "ba70cf26",
   "metadata": {},
   "outputs": [
    {
     "name": "stdout",
     "output_type": "stream",
     "text": [
      "('cycle', 'truck')\n"
     ]
    }
   ],
   "source": [
    "print(tup1[-3:-1])"
   ]
  },
  {
   "cell_type": "code",
   "execution_count": 25,
   "id": "591047f7",
   "metadata": {},
   "outputs": [
    {
     "name": "stdout",
     "output_type": "stream",
     "text": [
      "('bike', 'cycle')\n"
     ]
    }
   ],
   "source": [
    "print(tup1[-4:-2])"
   ]
  },
  {
   "cell_type": "code",
   "execution_count": null,
   "id": "962f2f73",
   "metadata": {},
   "outputs": [],
   "source": []
  },
  {
   "cell_type": "markdown",
   "id": "824b3a0c",
   "metadata": {},
   "source": [
    "# Update Tuples"
   ]
  },
  {
   "cell_type": "markdown",
   "id": "1abcbb92",
   "metadata": {},
   "source": [
    "Tuples are unchangeable, meaning that you cannot change, add, or remove items once the tuple is created."
   ]
  },
  {
   "cell_type": "code",
   "execution_count": 26,
   "id": "b22d5acc",
   "metadata": {},
   "outputs": [
    {
     "ename": "TypeError",
     "evalue": "'tuple' object does not support item assignment",
     "output_type": "error",
     "traceback": [
      "\u001b[1;31m---------------------------------------------------------------------------\u001b[0m",
      "\u001b[1;31mTypeError\u001b[0m                                 Traceback (most recent call last)",
      "Input \u001b[1;32mIn [26]\u001b[0m, in \u001b[0;36m<cell line: 2>\u001b[1;34m()\u001b[0m\n\u001b[0;32m      1\u001b[0m tup1 \u001b[38;5;241m=\u001b[39m (\u001b[38;5;124m\"\u001b[39m\u001b[38;5;124ma\u001b[39m\u001b[38;5;124m\"\u001b[39m, \u001b[38;5;124m\"\u001b[39m\u001b[38;5;124mb\u001b[39m\u001b[38;5;124m\"\u001b[39m, \u001b[38;5;124m\"\u001b[39m\u001b[38;5;124mc\u001b[39m\u001b[38;5;124m\"\u001b[39m, \u001b[38;5;124m\"\u001b[39m\u001b[38;5;124md\u001b[39m\u001b[38;5;124m\"\u001b[39m)\n\u001b[1;32m----> 2\u001b[0m tup1[\u001b[38;5;241m2\u001b[39m] \u001b[38;5;241m=\u001b[39m \u001b[38;5;124m'\u001b[39m\u001b[38;5;124mZ\u001b[39m\u001b[38;5;124m'\u001b[39m\n\u001b[0;32m      3\u001b[0m \u001b[38;5;28mprint\u001b[39m (\u001b[38;5;124m\"\u001b[39m\u001b[38;5;124mtup1: \u001b[39m\u001b[38;5;124m\"\u001b[39m, tup1)\n",
      "\u001b[1;31mTypeError\u001b[0m: 'tuple' object does not support item assignment"
     ]
    }
   ],
   "source": [
    "tup1 = (\"a\", \"b\", \"c\", \"d\")\n",
    "tup1[2] = 'Z'\n",
    "print (\"tup1: \", tup1)"
   ]
  },
  {
   "cell_type": "code",
   "execution_count": null,
   "id": "94dadabe",
   "metadata": {},
   "outputs": [],
   "source": []
  },
  {
   "cell_type": "markdown",
   "id": "19b8ff8a",
   "metadata": {},
   "source": [
    "# How to Update a Python Tuple?"
   ]
  },
  {
   "cell_type": "markdown",
   "id": "fe047692",
   "metadata": {},
   "source": [
    "Using list() function then again tuple()"
   ]
  },
  {
   "cell_type": "code",
   "execution_count": 28,
   "id": "afbdfff8",
   "metadata": {},
   "outputs": [
    {
     "name": "stdout",
     "output_type": "stream",
     "text": [
      "('car', 'truck', 'bike')\n"
     ]
    }
   ],
   "source": [
    "# Example\n",
    "\n",
    "x = (\"car\", \"train\", \"bike\")\n",
    "y = list(x)\n",
    "y[1] = \"truck\"\n",
    "x = tuple(y)\n",
    "\n",
    "print(x)"
   ]
  },
  {
   "cell_type": "code",
   "execution_count": 30,
   "id": "3363c38e",
   "metadata": {},
   "outputs": [
    {
     "name": "stdout",
     "output_type": "stream",
     "text": [
      "('car', 'bike', 'truck', 'train')\n"
     ]
    }
   ],
   "source": [
    "# Example adding tuple to tuple\n",
    "\n",
    "thistuple = (\"car\", \"bike\", \"truck\")\n",
    "y = (\"train\",)\n",
    "thistuple += y\n",
    "\n",
    "print(thistuple)"
   ]
  },
  {
   "cell_type": "code",
   "execution_count": null,
   "id": "d66c8dec",
   "metadata": {},
   "outputs": [],
   "source": []
  },
  {
   "cell_type": "markdown",
   "id": "b3b3224c",
   "metadata": {},
   "source": [
    "# Remove Items"
   ]
  },
  {
   "cell_type": "markdown",
   "id": "ec63e9b2",
   "metadata": {},
   "source": [
    "Note: You cannot remove items in a tuple.\n",
    "\n",
    "Tuples are unchangeable, so you cannot remove items from it, but you can use the same workaround as we used for changing and adding tuple items."
   ]
  },
  {
   "cell_type": "code",
   "execution_count": 32,
   "id": "fe68b0e8",
   "metadata": {},
   "outputs": [
    {
     "name": "stdout",
     "output_type": "stream",
     "text": [
      "('car', 'bike')\n"
     ]
    }
   ],
   "source": [
    "# Example\n",
    "# Convert the tuple into a list, remove \"apple\", and convert it back into a tuple\n",
    "\n",
    "x = (\"car\", \"train\", \"bike\")\n",
    "y = list(x)\n",
    "y.remove(\"train\")\n",
    "x = tuple(y)\n",
    "\n",
    "print(x)"
   ]
  },
  {
   "cell_type": "code",
   "execution_count": 33,
   "id": "cc69e139",
   "metadata": {},
   "outputs": [
    {
     "ename": "NameError",
     "evalue": "name 'thistuple' is not defined",
     "output_type": "error",
     "traceback": [
      "\u001b[1;31m---------------------------------------------------------------------------\u001b[0m",
      "\u001b[1;31mNameError\u001b[0m                                 Traceback (most recent call last)",
      "Input \u001b[1;32mIn [33]\u001b[0m, in \u001b[0;36m<cell line: 6>\u001b[1;34m()\u001b[0m\n\u001b[0;32m      4\u001b[0m thistuple \u001b[38;5;241m=\u001b[39m (\u001b[38;5;124m\"\u001b[39m\u001b[38;5;124mcar\u001b[39m\u001b[38;5;124m\"\u001b[39m, \u001b[38;5;124m\"\u001b[39m\u001b[38;5;124mbike\u001b[39m\u001b[38;5;124m\"\u001b[39m, \u001b[38;5;124m\"\u001b[39m\u001b[38;5;124mtrain\u001b[39m\u001b[38;5;124m\"\u001b[39m)\n\u001b[0;32m      5\u001b[0m \u001b[38;5;28;01mdel\u001b[39;00m thistuple\n\u001b[1;32m----> 6\u001b[0m \u001b[38;5;28mprint\u001b[39m(\u001b[43mthistuple\u001b[49m)\n",
      "\u001b[1;31mNameError\u001b[0m: name 'thistuple' is not defined"
     ]
    }
   ],
   "source": [
    "# Example\n",
    "# The del keyword can delete the tuple completely:\n",
    "\n",
    "thistuple = (\"car\", \"bike\", \"train\")\n",
    "del thistuple\n",
    "print(thistuple)"
   ]
  },
  {
   "cell_type": "code",
   "execution_count": null,
   "id": "21ad1aa3",
   "metadata": {},
   "outputs": [],
   "source": []
  },
  {
   "cell_type": "markdown",
   "id": "3317e20f",
   "metadata": {},
   "source": [
    "# Unpack Tuples"
   ]
  },
  {
   "cell_type": "markdown",
   "id": "f4d4a62e",
   "metadata": {},
   "source": [
    "In Python, we are allowed to extract the values back into variables. This is called \"unpacking\"."
   ]
  },
  {
   "cell_type": "code",
   "execution_count": 34,
   "id": "f43464b9",
   "metadata": {},
   "outputs": [
    {
     "name": "stdout",
     "output_type": "stream",
     "text": [
      "BMW\n",
      "TATA\n",
      "YAMAHA\n"
     ]
    }
   ],
   "source": [
    "# Unpacking a tuple\n",
    "\n",
    "x = (\"BMW\", \"TATA\", \"YAMAHA\")\n",
    "(car, truck, bike) = x\n",
    "\n",
    "print(car)\n",
    "print(truck)\n",
    "print(bike)"
   ]
  },
  {
   "cell_type": "code",
   "execution_count": null,
   "id": "358e1c62",
   "metadata": {},
   "outputs": [],
   "source": []
  },
  {
   "cell_type": "markdown",
   "id": "ea05d21b",
   "metadata": {},
   "source": [
    "# Using Asterisk*"
   ]
  },
  {
   "cell_type": "code",
   "execution_count": 35,
   "id": "988b86d6",
   "metadata": {},
   "outputs": [
    {
     "name": "stdout",
     "output_type": "stream",
     "text": [
      "x:  y:  [20, 30]\n"
     ]
    }
   ],
   "source": [
    "# Example using *\n",
    "\n",
    "tup1 = (10,20,30)\n",
    "x, *y = tup1\n",
    "print (\"x: \", \"y: \", y)"
   ]
  },
  {
   "cell_type": "code",
   "execution_count": 37,
   "id": "00488155",
   "metadata": {},
   "outputs": [
    {
     "name": "stdout",
     "output_type": "stream",
     "text": [
      "x: 10 y: [20, 30, 40, 50] z: 60\n"
     ]
    }
   ],
   "source": [
    "tup1 = (10,20,30, 40, 50, 60)\n",
    "x, *y, z = tup1\n",
    "print (\"x:\",x, \"y:\", y, \"z:\", z)"
   ]
  },
  {
   "cell_type": "code",
   "execution_count": null,
   "id": "ef8e0210",
   "metadata": {},
   "outputs": [],
   "source": []
  },
  {
   "cell_type": "markdown",
   "id": "57d405a3",
   "metadata": {},
   "source": [
    "# Loop Tuples"
   ]
  },
  {
   "cell_type": "markdown",
   "id": "ac3ef854",
   "metadata": {},
   "source": [
    "Traverse the items in a tuple with Python's for loop construct. The traversal can be done, using tuple as an iterator or with the help of index."
   ]
  },
  {
   "cell_type": "code",
   "execution_count": 38,
   "id": "f7dff9cf",
   "metadata": {},
   "outputs": [
    {
     "name": "stdout",
     "output_type": "stream",
     "text": [
      "25 12 10 -21 10 100 "
     ]
    }
   ],
   "source": [
    "# Example using for loop\n",
    "\n",
    "tup1 = (25, 12, 10, -21, 10, 100)\n",
    "for num in tup1:\n",
    "    print(num, end = ' ')"
   ]
  },
  {
   "cell_type": "code",
   "execution_count": 39,
   "id": "da36e574",
   "metadata": {},
   "outputs": [
    {
     "name": "stdout",
     "output_type": "stream",
     "text": [
      "tup1[0]:  25\n",
      "tup1[1]:  12\n",
      "tup1[2]:  10\n",
      "tup1[3]:  -21\n",
      "tup1[4]:  10\n",
      "tup1[5]:  100\n"
     ]
    }
   ],
   "source": [
    "tup1 = (25, 12, 10, -21, 10, 100)\n",
    "indices = range(len(tup1))\n",
    "for i in indices:\n",
    "    print(\"tup1[{}]: \".format(i), tup1[i])"
   ]
  },
  {
   "cell_type": "code",
   "execution_count": 40,
   "id": "28a01120",
   "metadata": {},
   "outputs": [
    {
     "name": "stdout",
     "output_type": "stream",
     "text": [
      "car\n",
      "bike\n",
      "train\n"
     ]
    }
   ],
   "source": [
    "# Example using While loop\n",
    "\n",
    "thistuple = (\"car\", \"bike\", \"train\")\n",
    "i = 0\n",
    "while i < len(thistuple):\n",
    "    print(thistuple[i])\n",
    "    i = i + 1"
   ]
  },
  {
   "cell_type": "code",
   "execution_count": null,
   "id": "65db0b2b",
   "metadata": {},
   "outputs": [],
   "source": []
  },
  {
   "cell_type": "markdown",
   "id": "048ccdb5",
   "metadata": {},
   "source": [
    "# Join Tuples"
   ]
  },
  {
   "cell_type": "markdown",
   "id": "42e6681d",
   "metadata": {},
   "source": [
    "To join two or more tuples you can use the + operator."
   ]
  },
  {
   "cell_type": "code",
   "execution_count": 41,
   "id": "545f9e8f",
   "metadata": {},
   "outputs": [
    {
     "name": "stdout",
     "output_type": "stream",
     "text": [
      "('a', 'b', 'c', 1, 2, 3)\n"
     ]
    }
   ],
   "source": [
    "tuple1 = (\"a\", \"b\" , \"c\")\n",
    "tuple2 = (1, 2, 3)\n",
    "\n",
    "tuple3 = tuple1 + tuple2\n",
    "print(tuple3)"
   ]
  },
  {
   "cell_type": "code",
   "execution_count": 42,
   "id": "19b07bce",
   "metadata": {},
   "outputs": [
    {
     "name": "stdout",
     "output_type": "stream",
     "text": [
      "Joined Tuple: (10, 20, 30, 40, 'one', 'two', 'three', 'four')\n"
     ]
    }
   ],
   "source": [
    "# Example\n",
    "\n",
    "T1 = (10,20,30,40)\n",
    "T2 = ('one', 'two', 'three', 'four')\n",
    "T1+=T2\n",
    "print (\"Joined Tuple:\", T1)"
   ]
  },
  {
   "cell_type": "code",
   "execution_count": 43,
   "id": "259db5bd",
   "metadata": {},
   "outputs": [
    {
     "name": "stdout",
     "output_type": "stream",
     "text": [
      "Joined Tuple: (10, 20, 30, 40, 'one', 'two', 'three', 'four')\n"
     ]
    }
   ],
   "source": [
    "# Using sum() method in-built\n",
    "\n",
    "T1 = (10,20,30,40)\n",
    "T2 = ('one', 'two', 'three', 'four')\n",
    "T3 = sum((T1, T2), ())\n",
    "print (\"Joined Tuple:\", T3)"
   ]
  },
  {
   "cell_type": "code",
   "execution_count": null,
   "id": "7870e007",
   "metadata": {},
   "outputs": [],
   "source": []
  },
  {
   "cell_type": "markdown",
   "id": "af6b18c2",
   "metadata": {},
   "source": [
    "# Multiply Tuples"
   ]
  },
  {
   "cell_type": "markdown",
   "id": "8384136c",
   "metadata": {},
   "source": [
    "If you want to multiply the content of a tuple a given number of times, you can use the * operator:"
   ]
  },
  {
   "cell_type": "code",
   "execution_count": 44,
   "id": "79d65e06",
   "metadata": {},
   "outputs": [
    {
     "name": "stdout",
     "output_type": "stream",
     "text": [
      "('car', 'bike', 'train', 'car', 'bike', 'train')\n"
     ]
    }
   ],
   "source": [
    "x = (\"car\", \"bike\", \"train\")\n",
    "mytuple = x * 2\n",
    "\n",
    "print(mytuple)"
   ]
  },
  {
   "cell_type": "code",
   "execution_count": null,
   "id": "084bef7f",
   "metadata": {},
   "outputs": [],
   "source": []
  },
  {
   "cell_type": "markdown",
   "id": "9fe77032",
   "metadata": {},
   "source": [
    "# Tuple Methods"
   ]
  },
  {
   "attachments": {
    "image.png": {
     "image/png": "[encoded data removed]"
    }
   },
   "cell_type": "markdown",
   "id": "b8d07ad3",
   "metadata": {},
   "source": [
    "![image.png](attachment:image.png)"
   ]
  },
  {
   "cell_type": "code",
   "execution_count": 45,
   "id": "e284fa28",
   "metadata": {},
   "outputs": [
    {
     "name": "stdout",
     "output_type": "stream",
     "text": [
      "Tup1: (10, 20, 45, 10, 30, 10, 55)\n",
      "count of 10: 3\n"
     ]
    }
   ],
   "source": [
    "# count method\n",
    "\n",
    "tup1 = (10, 20, 45, 10, 30, 10, 55)\n",
    "print (\"Tup1:\", tup1)\n",
    "c = tup1.count(10)\n",
    "print (\"count of 10:\", c)"
   ]
  },
  {
   "cell_type": "code",
   "execution_count": 46,
   "id": "d3df4998",
   "metadata": {},
   "outputs": [
    {
     "name": "stdout",
     "output_type": "stream",
     "text": [
      "Tup1: (10, 20, 45, 10, 30, 10, 55)\n",
      "count of 10: 0\n"
     ]
    }
   ],
   "source": [
    "Tup1 = (10, 20/80, 0.25, 10/40, 30, 10, 55)\n",
    "print (\"Tup1:\", tup1)\n",
    "c = tup1.count(0.25)\n",
    "print (\"count of 10:\", c)"
   ]
  },
  {
   "cell_type": "code",
   "execution_count": null,
   "id": "4d16f48e",
   "metadata": {},
   "outputs": [],
   "source": []
  },
  {
   "cell_type": "code",
   "execution_count": 47,
   "id": "a672fe3d",
   "metadata": {},
   "outputs": [
    {
     "name": "stdout",
     "output_type": "stream",
     "text": [
      "Tup1: (25, 12, 10, -21, 10, 100)\n",
      "First index of 10: 2\n"
     ]
    }
   ],
   "source": [
    "# index method\n",
    "\n",
    "tup1 = (25, 12, 10, -21, 10, 100)\n",
    "print (\"Tup1:\", tup1)\n",
    "x = tup1.index(10)\n",
    "print (\"First index of 10:\", x)"
   ]
  },
  {
   "cell_type": "code",
   "execution_count": null,
   "id": "e801602d",
   "metadata": {},
   "outputs": [],
   "source": []
  }
 ],
 "metadata": {
  "kernelspec": {
   "display_name": "Python 3 (ipykernel)",
   "language": "python",
   "name": "python3"
  },
  "language_info": {
   "codemirror_mode": {
    "name": "ipython",
    "version": 3
   },
   "file_extension": ".py",
   "mimetype": "text/x-python",
   "name": "python",
   "nbconvert_exporter": "python",
   "pygments_lexer": "ipython3",
   "version": "3.9.12"
  }
 },
 "nbformat": 4,
 "nbformat_minor": 5
}
