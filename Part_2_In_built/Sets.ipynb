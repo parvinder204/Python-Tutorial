{
 "cells": [
  {
   "cell_type": "markdown",
   "id": "be46a98b",
   "metadata": {},
   "source": [
    "# Welcome to Python 3.7"
   ]
  },
  {
   "cell_type": "markdown",
   "id": "a0c4c373",
   "metadata": {},
   "source": [
    "Sets : In-built Function"
   ]
  },
  {
   "cell_type": "markdown",
   "id": "a0bb3e8a",
   "metadata": {},
   "source": [
    "# Sets"
   ]
  },
  {
   "cell_type": "markdown",
   "id": "698e4205",
   "metadata": {},
   "source": [
    "A set is one of the built-in data types in Python. In mathematics, set is a collection of distinct objects. Set data type is Python's implementation of a set. Objects in a set can be of any data type.\n",
    "\n",
    "Set in Python also a collection data type such as list or tuple. However, it is not an ordered collection, i.e., items in a set or not accessible by its positional index. A set object is a collection of one or more immutable objects enclosed within curly brackets {}."
   ]
  },
  {
   "cell_type": "code",
   "execution_count": 1,
   "id": "77ad6fc5",
   "metadata": {},
   "outputs": [
    {
     "name": "stdout",
     "output_type": "stream",
     "text": [
      "{21, 'Physics', 69.75, 'Rohan'}\n",
      "{1, 2, 3, 4, 5}\n",
      "{'d', 'a', 'c', 'b'}\n",
      "{25.5, -55, True, (1+2j)}\n"
     ]
    }
   ],
   "source": [
    "# Example\n",
    "\n",
    "s1 = {\"Rohan\", \"Physics\", 21, 69.75}\n",
    "s2 = {1, 2, 3, 4, 5}\n",
    "s3 = {\"a\", \"b\", \"c\", \"d\"}\n",
    "s4 = {25.50, True, -55, 1+2j}\n",
    "print (s1)\n",
    "print (s2)\n",
    "print (s3)\n",
    "print (s4)"
   ]
  },
  {
   "cell_type": "markdown",
   "id": "62af14a7",
   "metadata": {},
   "source": [
    "# Set Items"
   ]
  },
  {
   "cell_type": "markdown",
   "id": "3ce0df42",
   "metadata": {},
   "source": [
    "Set items are unordered, unchangeable, and do not allow duplicate values"
   ]
  },
  {
   "cell_type": "markdown",
   "id": "04daeae9",
   "metadata": {},
   "source": [
    "# Unordered"
   ]
  },
  {
   "cell_type": "markdown",
   "id": "af948769",
   "metadata": {},
   "source": [
    "Unordered means that the items in a set do not have a defined order.\n",
    "\n",
    "Set items can appear in a different order every time you use them, and cannot be referred to by index or key."
   ]
  },
  {
   "cell_type": "markdown",
   "id": "ec23c336",
   "metadata": {},
   "source": [
    "# Unchangeable"
   ]
  },
  {
   "cell_type": "markdown",
   "id": "419f1d82",
   "metadata": {},
   "source": [
    "Set items are unchangeable, meaning that we cannot change the items after the set has been created.\n",
    "\n",
    "Once a set is created, you cannot change its items, but you can remove items and add new items."
   ]
  },
  {
   "cell_type": "markdown",
   "id": "8eb38464",
   "metadata": {},
   "source": [
    "# Duplicates Not Allowed"
   ]
  },
  {
   "cell_type": "markdown",
   "id": "08f1ddb9",
   "metadata": {},
   "source": [
    "Sets cannot have two items with the same value.\n",
    "\n"
   ]
  },
  {
   "cell_type": "code",
   "execution_count": 3,
   "id": "93467676",
   "metadata": {},
   "outputs": [
    {
     "name": "stdout",
     "output_type": "stream",
     "text": [
      "{1, 2, 3}\n"
     ]
    }
   ],
   "source": [
    "# Example\n",
    "\n",
    "T1 = {1, 2, 3, 2, 1}\n",
    "print(T1)"
   ]
  },
  {
   "cell_type": "code",
   "execution_count": 4,
   "id": "43fe65b2",
   "metadata": {},
   "outputs": [
    {
     "name": "stdout",
     "output_type": "stream",
     "text": [
      "{True}\n"
     ]
    }
   ],
   "source": [
    "#  The values True and 1 are considered the same value in sets, and are treated as duplicates:\n",
    "\n",
    "T2 = {True,1}\n",
    "print(T2)"
   ]
  },
  {
   "cell_type": "code",
   "execution_count": 5,
   "id": "6d6a9d89",
   "metadata": {},
   "outputs": [
    {
     "name": "stdout",
     "output_type": "stream",
     "text": [
      "{False}\n"
     ]
    }
   ],
   "source": [
    "# The values False and 0 are considered the same value in sets, and are treated as duplicates:\n",
    "\n",
    "T3 = {False,0}\n",
    "print(T3)"
   ]
  },
  {
   "cell_type": "code",
   "execution_count": null,
   "id": "fab74ece",
   "metadata": {},
   "outputs": [],
   "source": []
  },
  {
   "cell_type": "markdown",
   "id": "b6967ec4",
   "metadata": {},
   "source": [
    "# Length of a Set"
   ]
  },
  {
   "cell_type": "markdown",
   "id": "5adab987",
   "metadata": {},
   "source": [
    "To determine how many items a set has, use the len() function."
   ]
  },
  {
   "cell_type": "code",
   "execution_count": 6,
   "id": "437a8fe2",
   "metadata": {},
   "outputs": [
    {
     "name": "stdout",
     "output_type": "stream",
     "text": [
      "5\n"
     ]
    }
   ],
   "source": [
    "# Example\n",
    "\n",
    "T1 = {1, 2, 3, 4, 5}\n",
    "print(len(T1))"
   ]
  },
  {
   "cell_type": "code",
   "execution_count": null,
   "id": "081f2a81",
   "metadata": {},
   "outputs": [],
   "source": []
  },
  {
   "cell_type": "markdown",
   "id": "cdfefcf6",
   "metadata": {},
   "source": [
    "# Set Items - Data Types"
   ]
  },
  {
   "cell_type": "markdown",
   "id": "e603595d",
   "metadata": {},
   "source": [
    "Set items can be of any data type:"
   ]
  },
  {
   "cell_type": "code",
   "execution_count": 7,
   "id": "71910d11",
   "metadata": {},
   "outputs": [],
   "source": [
    "set1 = {\"car\", \"bike\", \"truck\"}\n",
    "set2 = {1, 5, 7, 9, 3}\n",
    "set3 = {True, False, False}"
   ]
  },
  {
   "cell_type": "code",
   "execution_count": 8,
   "id": "0a85bfe8",
   "metadata": {},
   "outputs": [
    {
     "name": "stdout",
     "output_type": "stream",
     "text": [
      "{True, 34, 'male', 40, 'abc'}\n"
     ]
    }
   ],
   "source": [
    "# Example\n",
    "\n",
    "set1 = {\"abc\", 34, True, 40, \"male\"}\n",
    "print(set1)"
   ]
  },
  {
   "cell_type": "code",
   "execution_count": null,
   "id": "2a1706e7",
   "metadata": {},
   "outputs": [],
   "source": []
  },
  {
   "cell_type": "markdown",
   "id": "f0a70180",
   "metadata": {},
   "source": [
    "# type()"
   ]
  },
  {
   "cell_type": "markdown",
   "id": "df38aeb6",
   "metadata": {},
   "source": [
    "From Python's perspective, sets are defined as objects with the data type 'set'."
   ]
  },
  {
   "cell_type": "code",
   "execution_count": 9,
   "id": "cd5e7c74",
   "metadata": {},
   "outputs": [
    {
     "name": "stdout",
     "output_type": "stream",
     "text": [
      "<class 'set'>\n"
     ]
    }
   ],
   "source": [
    "set1 = {\"abc\", 34, True, 40, \"male\"}\n",
    "print(type(set1))"
   ]
  },
  {
   "cell_type": "code",
   "execution_count": null,
   "id": "71965623",
   "metadata": {},
   "outputs": [],
   "source": []
  },
  {
   "cell_type": "markdown",
   "id": "5e64b2c8",
   "metadata": {},
   "source": [
    "# set() Constructor"
   ]
  },
  {
   "cell_type": "markdown",
   "id": "5c9389a2",
   "metadata": {},
   "source": [
    "It is also possible to use the set() constructor to make a set."
   ]
  },
  {
   "cell_type": "code",
   "execution_count": 11,
   "id": "e2c47fc2",
   "metadata": {},
   "outputs": [
    {
     "name": "stdout",
     "output_type": "stream",
     "text": [
      "<class 'set'>\n",
      "{1, 2, 3, 4, 5}\n"
     ]
    }
   ],
   "source": [
    "# Example\n",
    "\n",
    "set1 = set((1,2,3,4,5))\n",
    "print(type(set1))\n",
    "print(set1)"
   ]
  },
  {
   "cell_type": "code",
   "execution_count": 13,
   "id": "8e98ffa7",
   "metadata": {},
   "outputs": [
    {
     "name": "stdout",
     "output_type": "stream",
     "text": [
      "<class 'set'>\n",
      "{2}\n"
     ]
    }
   ],
   "source": [
    "set2 = set((2,))\n",
    "print(type(set2))\n",
    "print(set2)"
   ]
  },
  {
   "cell_type": "code",
   "execution_count": null,
   "id": "36f1f7b7",
   "metadata": {},
   "outputs": [],
   "source": []
  },
  {
   "cell_type": "markdown",
   "id": "d273c5c8",
   "metadata": {},
   "source": [
    "# Access Set Items"
   ]
  },
  {
   "cell_type": "markdown",
   "id": "6b78d927",
   "metadata": {},
   "source": [
    "You cannot access items in a set by referring to an index or a key.\n",
    "\n",
    "But you can loop through the set items using a for loop, or ask if a specified value is present in a set, by using the in keyword."
   ]
  },
  {
   "cell_type": "code",
   "execution_count": 14,
   "id": "92c38a67",
   "metadata": {},
   "outputs": [
    {
     "name": "stdout",
     "output_type": "stream",
     "text": [
      "C\n",
      "Java\n",
      "Python\n",
      "C++\n"
     ]
    }
   ],
   "source": [
    "# Example \n",
    "\n",
    "langs = {\"C\", \"C++\", \"Java\", \"Python\"}\n",
    "for lang in langs:\n",
    "    print(lang)"
   ]
  },
  {
   "cell_type": "code",
   "execution_count": 15,
   "id": "9107d0cb",
   "metadata": {},
   "outputs": [
    {
     "name": "stdout",
     "output_type": "stream",
     "text": [
      "1\n",
      "2\n",
      "3\n",
      "4\n",
      "5\n"
     ]
    }
   ],
   "source": [
    "# Example\n",
    "\n",
    "set1 = set((1,2,3,4,5))\n",
    "for i in set1:\n",
    "    print(i)"
   ]
  },
  {
   "cell_type": "code",
   "execution_count": null,
   "id": "fb4c94cc",
   "metadata": {},
   "outputs": [],
   "source": []
  },
  {
   "cell_type": "markdown",
   "id": "32588e99",
   "metadata": {},
   "source": [
    "# Add Set Items"
   ]
  },
  {
   "cell_type": "markdown",
   "id": "e2df0229",
   "metadata": {},
   "source": [
    "Even if a set holds together only immutable objects, set itself is mutable. We can add new items in it with any of the following ways −"
   ]
  },
  {
   "cell_type": "markdown",
   "id": "27e9a8d3",
   "metadata": {},
   "source": [
    "# add() method"
   ]
  },
  {
   "cell_type": "markdown",
   "id": "910d4bdb",
   "metadata": {},
   "source": [
    "The add() method in set class adds a new element. If the element is already present in the set, there is no change in the set."
   ]
  },
  {
   "cell_type": "code",
   "execution_count": 17,
   "id": "11c0765e",
   "metadata": {},
   "outputs": [
    {
     "name": "stdout",
     "output_type": "stream",
     "text": [
      "{'C', 'Golang', 'Python', 'C++', 'Java'}\n"
     ]
    }
   ],
   "source": [
    "# Example\n",
    "\n",
    "lang1 = {\"C\", \"C++\", \"Java\", \"Python\"}\n",
    "lang1.add(\"Golang\")\n",
    "print(lang1)"
   ]
  },
  {
   "cell_type": "code",
   "execution_count": 18,
   "id": "702982d4",
   "metadata": {},
   "outputs": [
    {
     "name": "stdout",
     "output_type": "stream",
     "text": [
      "{'bike', 'airplane', 'truck', 'car'}\n"
     ]
    }
   ],
   "source": [
    "# Example\n",
    "\n",
    "thisset = {\"airplane\", \"bike\", \"car\"}\n",
    "thisset.add(\"truck\")\n",
    "print(thisset)"
   ]
  },
  {
   "cell_type": "code",
   "execution_count": null,
   "id": "90858d90",
   "metadata": {},
   "outputs": [],
   "source": []
  },
  {
   "cell_type": "markdown",
   "id": "ba60dbbb",
   "metadata": {},
   "source": [
    "# update() Method"
   ]
  },
  {
   "cell_type": "markdown",
   "id": "8cefb786",
   "metadata": {},
   "source": [
    "The update() method of set class includes the items of the set given as argument. If elements in the other set has one or more items that are already existing, they will not be included."
   ]
  },
  {
   "cell_type": "code",
   "execution_count": 20,
   "id": "0092e9cb",
   "metadata": {},
   "outputs": [
    {
     "name": "stdout",
     "output_type": "stream",
     "text": [
      "{'C', 'PHP', 'C++', 'Perl', 'Java', 'Python', 'C#'}\n"
     ]
    }
   ],
   "source": [
    "# Example\n",
    "\n",
    "lang1 = {\"C\", \"C++\", \"Java\", \"Python\"}\n",
    "lang2 = {\"PHP\", \"C#\", \"Perl\"}\n",
    "lang1.update(lang2)\n",
    "print(lang1)"
   ]
  },
  {
   "cell_type": "code",
   "execution_count": 21,
   "id": "dda4a183",
   "metadata": {},
   "outputs": [
    {
     "name": "stdout",
     "output_type": "stream",
     "text": [
      "{'apple', 'cherry', 'banana', 'kiwi', 'orange'}\n"
     ]
    }
   ],
   "source": [
    "# Example\n",
    "\n",
    "thisset = {\"apple\", \"banana\", \"cherry\"}\n",
    "mylist = [\"kiwi\", \"orange\"]\n",
    "thisset.update(mylist)\n",
    "print(thisset)"
   ]
  },
  {
   "cell_type": "code",
   "execution_count": null,
   "id": "a5a98b36",
   "metadata": {},
   "outputs": [],
   "source": []
  },
  {
   "cell_type": "markdown",
   "id": "87dfb787",
   "metadata": {},
   "source": [
    "# union() method"
   ]
  },
  {
   "cell_type": "markdown",
   "id": "169e2061",
   "metadata": {},
   "source": [
    "The union() method of set class also combines the unique items from two sets, but it returns a new set object."
   ]
  },
  {
   "cell_type": "code",
   "execution_count": 22,
   "id": "ff46360f",
   "metadata": {},
   "outputs": [
    {
     "name": "stdout",
     "output_type": "stream",
     "text": [
      "{'C', 'PHP', 'C++', 'Perl', 'Java', 'Python', 'C#'}\n"
     ]
    }
   ],
   "source": [
    "# Example\n",
    "\n",
    "lang1 = {\"C\", \"C++\", \"Java\", \"Python\"}\n",
    "lang2 = {\"PHP\", \"C#\", \"Perl\"}\n",
    "lang3 = lang1.union(lang2)\n",
    "print(lang3)"
   ]
  },
  {
   "cell_type": "code",
   "execution_count": null,
   "id": "0b93e18e",
   "metadata": {},
   "outputs": [],
   "source": []
  },
  {
   "cell_type": "markdown",
   "id": "12fcde75",
   "metadata": {},
   "source": [
    "# Remove Set Items"
   ]
  },
  {
   "cell_type": "markdown",
   "id": "fc468536",
   "metadata": {},
   "source": [
    "To remove an item in a set, use the remove(), or the discard() method."
   ]
  },
  {
   "cell_type": "markdown",
   "id": "7f3a8434",
   "metadata": {},
   "source": [
    "# remove() method"
   ]
  },
  {
   "cell_type": "markdown",
   "id": "95dd5f05",
   "metadata": {},
   "source": [
    "The remove() method removes the given item from the set collection, if it is present in it. However, if it is not present, it raises KeyError."
   ]
  },
  {
   "cell_type": "code",
   "execution_count": 24,
   "id": "f5559325",
   "metadata": {},
   "outputs": [
    {
     "name": "stdout",
     "output_type": "stream",
     "text": [
      "Set before removing:  {'C', 'Java', 'Python', 'C++'}\n",
      "Set after removing:  {'C', 'Python', 'C++'}\n"
     ]
    }
   ],
   "source": [
    "# Example\n",
    "\n",
    "lang1 = {\"C\", \"C++\", \"Java\", \"Python\"}\n",
    "print(\"Set before removing: \", lang1)\n",
    "lang1.remove(\"Java\")\n",
    "print(\"Set after removing: \", lang1)"
   ]
  },
  {
   "cell_type": "code",
   "execution_count": 25,
   "id": "9ad2d1d5",
   "metadata": {},
   "outputs": [
    {
     "name": "stdout",
     "output_type": "stream",
     "text": [
      "{'airplane', 'car'}\n"
     ]
    }
   ],
   "source": [
    "thisset = {\"airplane\", \"bike\", \"car\"}\n",
    "thisset.remove(\"bike\")\n",
    "print(thisset)"
   ]
  },
  {
   "cell_type": "code",
   "execution_count": null,
   "id": "37d32b24",
   "metadata": {},
   "outputs": [],
   "source": []
  },
  {
   "cell_type": "markdown",
   "id": "645cfcb5",
   "metadata": {},
   "source": [
    "# discard() method"
   ]
  },
  {
   "cell_type": "markdown",
   "id": "408d76eb",
   "metadata": {},
   "source": [
    "The discard() method in set class is similar to remove() method. The only difference is, it doesn't raise error even if the object to be removed is not already present in the set collection."
   ]
  },
  {
   "cell_type": "code",
   "execution_count": 26,
   "id": "b45ffd38",
   "metadata": {},
   "outputs": [
    {
     "name": "stdout",
     "output_type": "stream",
     "text": [
      "Set before discarding C++:  {'C', 'Java', 'Python', 'C++'}\n",
      "Set after discarding C++:  {'C', 'Java', 'Python'}\n"
     ]
    }
   ],
   "source": [
    "# Example\n",
    "\n",
    "lang1 = {\"C\", \"C++\", \"Java\", \"Python\"}\n",
    "print (\"Set before discarding C++: \", lang1)\n",
    "lang1.discard(\"C++\")\n",
    "print (\"Set after discarding C++: \", lang1)"
   ]
  },
  {
   "cell_type": "code",
   "execution_count": 27,
   "id": "4edf7f0b",
   "metadata": {},
   "outputs": [
    {
     "name": "stdout",
     "output_type": "stream",
     "text": [
      "{'bike', 'airplane', 'car'}\n"
     ]
    }
   ],
   "source": [
    "# Example\n",
    "\n",
    "thisset = {\"airplane\", \"bike\", \"car\"}\n",
    "thisset.discard(\"train\")\n",
    "print(thisset)"
   ]
  },
  {
   "cell_type": "code",
   "execution_count": null,
   "id": "7b89512d",
   "metadata": {},
   "outputs": [],
   "source": []
  },
  {
   "cell_type": "markdown",
   "id": "6c18060b",
   "metadata": {},
   "source": [
    "# pop() method"
   ]
  },
  {
   "cell_type": "markdown",
   "id": "94ae28ca",
   "metadata": {},
   "source": [
    "The pop() method in set class removes an arbitrary item from the set collection. The removed item is returned by the method. Popping from an empty set results in KeyError."
   ]
  },
  {
   "cell_type": "code",
   "execution_count": 28,
   "id": "cf8bb8b0",
   "metadata": {},
   "outputs": [
    {
     "name": "stdout",
     "output_type": "stream",
     "text": [
      "Set before popping:  {'C', 'C++'}\n",
      "object popped:  C\n",
      "Set after popping:  {'C++'}\n"
     ]
    }
   ],
   "source": [
    "# Example\n",
    "\n",
    "lang1 = {\"C\", \"C++\"}\n",
    "print (\"Set before popping: \", lang1)\n",
    "obj = lang1.pop()\n",
    "print (\"object popped: \", obj)\n",
    "print (\"Set after popping: \", lang1)"
   ]
  },
  {
   "cell_type": "code",
   "execution_count": 29,
   "id": "63b8aa8d",
   "metadata": {},
   "outputs": [
    {
     "name": "stdout",
     "output_type": "stream",
     "text": [
      "bike\n",
      "{'truck', 'car'}\n"
     ]
    }
   ],
   "source": [
    "# Example\n",
    "\n",
    "thisset = {\"truck\", \"bike\", \"car\"}\n",
    "x = thisset.pop()\n",
    "print(x)\n",
    "print(thisset)"
   ]
  },
  {
   "cell_type": "code",
   "execution_count": null,
   "id": "ba7083e3",
   "metadata": {},
   "outputs": [],
   "source": []
  },
  {
   "cell_type": "markdown",
   "id": "d6f44a5a",
   "metadata": {},
   "source": [
    "# clear() method"
   ]
  },
  {
   "cell_type": "markdown",
   "id": "da567062",
   "metadata": {},
   "source": [
    "The clear() method in set class removes all the items in a set object, leaving an empty set."
   ]
  },
  {
   "cell_type": "code",
   "execution_count": 30,
   "id": "ddbed303",
   "metadata": {},
   "outputs": [
    {
     "name": "stdout",
     "output_type": "stream",
     "text": [
      "{'C', 'Java', 'Python', 'C++'}\n",
      "After clear() method\n",
      "set()\n"
     ]
    }
   ],
   "source": [
    "# Example\n",
    "\n",
    "lang1 = {\"C\", \"C++\", \"Java\", \"Python\"}\n",
    "print (lang1)\n",
    "print (\"After clear() method\")\n",
    "lang1.clear()\n",
    "print (lang1)"
   ]
  },
  {
   "cell_type": "code",
   "execution_count": 31,
   "id": "afa8a9c5",
   "metadata": {},
   "outputs": [
    {
     "name": "stdout",
     "output_type": "stream",
     "text": [
      "set()\n"
     ]
    }
   ],
   "source": [
    "# Example\n",
    "\n",
    "thisset = {\"air\", \"water\", \"fire\"}\n",
    "thisset.clear()\n",
    "print(thisset)"
   ]
  },
  {
   "cell_type": "code",
   "execution_count": null,
   "id": "9bed0414",
   "metadata": {},
   "outputs": [],
   "source": []
  },
  {
   "cell_type": "markdown",
   "id": "a7a8918d",
   "metadata": {},
   "source": [
    "# del keyword"
   ]
  },
  {
   "cell_type": "markdown",
   "id": "f5dbf7b6",
   "metadata": {},
   "source": [
    "The del keyword will delete the set completely."
   ]
  },
  {
   "cell_type": "code",
   "execution_count": 32,
   "id": "956c3c13",
   "metadata": {},
   "outputs": [
    {
     "ename": "NameError",
     "evalue": "name 'thisset' is not defined",
     "output_type": "error",
     "traceback": [
      "\u001b[1;31m---------------------------------------------------------------------------\u001b[0m",
      "\u001b[1;31mNameError\u001b[0m                                 Traceback (most recent call last)",
      "Input \u001b[1;32mIn [32]\u001b[0m, in \u001b[0;36m<cell line: 5>\u001b[1;34m()\u001b[0m\n\u001b[0;32m      3\u001b[0m thisset \u001b[38;5;241m=\u001b[39m {\u001b[38;5;124m\"\u001b[39m\u001b[38;5;124mair\u001b[39m\u001b[38;5;124m\"\u001b[39m, \u001b[38;5;124m\"\u001b[39m\u001b[38;5;124mwater\u001b[39m\u001b[38;5;124m\"\u001b[39m, \u001b[38;5;124m\"\u001b[39m\u001b[38;5;124mfire\u001b[39m\u001b[38;5;124m\"\u001b[39m}\n\u001b[0;32m      4\u001b[0m \u001b[38;5;28;01mdel\u001b[39;00m thisset\n\u001b[1;32m----> 5\u001b[0m \u001b[38;5;28mprint\u001b[39m(\u001b[43mthisset\u001b[49m)\n",
      "\u001b[1;31mNameError\u001b[0m: name 'thisset' is not defined"
     ]
    }
   ],
   "source": [
    "# Example\n",
    "\n",
    "thisset = {\"air\", \"water\", \"fire\"}\n",
    "del thisset\n",
    "print(thisset)"
   ]
  },
  {
   "cell_type": "code",
   "execution_count": null,
   "id": "4ffaaeee",
   "metadata": {},
   "outputs": [],
   "source": []
  },
  {
   "cell_type": "markdown",
   "id": "28725614",
   "metadata": {},
   "source": [
    "# difference_update() method"
   ]
  },
  {
   "cell_type": "markdown",
   "id": "50c267ab",
   "metadata": {},
   "source": [
    "The difference_update() method in set class updates the set by removing items that are common between itself and another set given as argument."
   ]
  },
  {
   "cell_type": "code",
   "execution_count": 33,
   "id": "6a52e5a1",
   "metadata": {},
   "outputs": [
    {
     "name": "stdout",
     "output_type": "stream",
     "text": [
      "s1 before running difference_update:  {1, 2, 3, 4, 5}\n",
      "s1 after running difference_update:  {1, 2, 3}\n"
     ]
    }
   ],
   "source": [
    "s1 = {1,2,3,4,5}\n",
    "s2 = {4,5,6,7,8}\n",
    "print (\"s1 before running difference_update: \", s1)\n",
    "s1.difference_update(s2)\n",
    "print (\"s1 after running difference_update: \", s1)"
   ]
  },
  {
   "cell_type": "code",
   "execution_count": null,
   "id": "5d01e5d9",
   "metadata": {},
   "outputs": [],
   "source": []
  },
  {
   "cell_type": "markdown",
   "id": "cbf22e16",
   "metadata": {},
   "source": [
    "# difference() method"
   ]
  },
  {
   "cell_type": "markdown",
   "id": "65783bdf",
   "metadata": {},
   "source": [
    "The difference() method is similar to difference_update() method, except that it returns a new set object that contains the difference of the two existing sets."
   ]
  },
  {
   "cell_type": "code",
   "execution_count": 34,
   "id": "83860d80",
   "metadata": {},
   "outputs": [
    {
     "name": "stdout",
     "output_type": "stream",
     "text": [
      "s1:  {1, 2, 3, 4, 5} s2:  {4, 5, 6, 7, 8}\n",
      "s3 = s1-s2:  {1, 2, 3}\n"
     ]
    }
   ],
   "source": [
    "s1 = {1,2,3,4,5}\n",
    "s2 = {4,5,6,7,8}\n",
    "print (\"s1: \", s1, \"s2: \", s2)\n",
    "s3 = s1.difference(s2)\n",
    "print (\"s3 = s1-s2: \", s3)"
   ]
  },
  {
   "cell_type": "code",
   "execution_count": null,
   "id": "d1f75943",
   "metadata": {},
   "outputs": [],
   "source": []
  },
  {
   "cell_type": "markdown",
   "id": "e992f7be",
   "metadata": {},
   "source": [
    "# intersection_update() method"
   ]
  },
  {
   "cell_type": "markdown",
   "id": "47205a49",
   "metadata": {},
   "source": [
    "As a result of intersection_update() method, the set object retains only those items which are common in itself and other set object given as argument."
   ]
  },
  {
   "cell_type": "code",
   "execution_count": 36,
   "id": "26d5014b",
   "metadata": {},
   "outputs": [
    {
     "name": "stdout",
     "output_type": "stream",
     "text": [
      "s1:  {1, 2, 3, 4, 5} s2:  {4, 5, 6, 7, 8}\n",
      "s1 after intersection:  {4, 5}\n"
     ]
    }
   ],
   "source": [
    "# Example\n",
    "\n",
    "s1 = {1,2,3,4,5}\n",
    "s2 = {4,5,6,7,8}\n",
    "print (\"s1: \", s1, \"s2: \", s2)\n",
    "s1.intersection_update(s2)\n",
    "print (\"s1 after intersection: \", s1)"
   ]
  },
  {
   "cell_type": "code",
   "execution_count": null,
   "id": "1afa938d",
   "metadata": {},
   "outputs": [],
   "source": []
  },
  {
   "cell_type": "markdown",
   "id": "294aa0f0",
   "metadata": {},
   "source": [
    "# intersection() method"
   ]
  },
  {
   "cell_type": "markdown",
   "id": "4d23e29e",
   "metadata": {},
   "source": [
    "The intersection() method in set class is similar to its intersection_update() method, except that it returns a new set object that consists of items common to existing sets."
   ]
  },
  {
   "cell_type": "code",
   "execution_count": 37,
   "id": "79fbf6c3",
   "metadata": {},
   "outputs": [
    {
     "name": "stdout",
     "output_type": "stream",
     "text": [
      "s1:  {1, 2, 3, 4, 5} s2:  {4, 5, 6, 7, 8}\n",
      "s3 = s1 & s2:  {4, 5}\n"
     ]
    }
   ],
   "source": [
    "# Example\n",
    "\n",
    "s1 = {1,2,3,4,5}\n",
    "s2 = {4,5,6,7,8}\n",
    "print (\"s1: \", s1, \"s2: \", s2)\n",
    "s3 = s1.intersection(s2)\n",
    "print (\"s3 = s1 & s2: \", s3)"
   ]
  },
  {
   "cell_type": "code",
   "execution_count": null,
   "id": "3f4ccb64",
   "metadata": {},
   "outputs": [],
   "source": []
  },
  {
   "cell_type": "markdown",
   "id": "51708c6a",
   "metadata": {},
   "source": [
    "# symmetric_difference_update() method"
   ]
  },
  {
   "cell_type": "markdown",
   "id": "a1ff6a14",
   "metadata": {},
   "source": [
    "The symmetric difference between two sets is the collection of all the uncommon items, rejecting the common elements. The symmetric_difference_update() method updates a set with symmetric difference between itself and the set given as argument."
   ]
  },
  {
   "cell_type": "code",
   "execution_count": 38,
   "id": "c0a06366",
   "metadata": {},
   "outputs": [
    {
     "name": "stdout",
     "output_type": "stream",
     "text": [
      "s1:  {1, 2, 3, 4, 5} s2:  {4, 5, 6, 7, 8}\n",
      "s1 after running symmetric difference  {1, 2, 3, 6, 7, 8}\n"
     ]
    }
   ],
   "source": [
    "# Example\n",
    "\n",
    "s1 = {1,2,3,4,5}\n",
    "s2 = {4,5,6,7,8}\n",
    "print (\"s1: \", s1, \"s2: \", s2)\n",
    "s1.symmetric_difference_update(s2)\n",
    "print (\"s1 after running symmetric difference \", s1)"
   ]
  },
  {
   "cell_type": "code",
   "execution_count": null,
   "id": "25ef5813",
   "metadata": {},
   "outputs": [],
   "source": []
  },
  {
   "cell_type": "markdown",
   "id": "6d40f4b0",
   "metadata": {},
   "source": [
    "# symmetric_difference() method"
   ]
  },
  {
   "cell_type": "markdown",
   "id": "c510c10e",
   "metadata": {},
   "source": [
    "The symmetric_difference() method in set class is similar to symmetric_difference_update() method, except that it returns a new set object that holds all the items from two sets minus the common items."
   ]
  },
  {
   "cell_type": "code",
   "execution_count": 39,
   "id": "1bb1b3b8",
   "metadata": {},
   "outputs": [
    {
     "name": "stdout",
     "output_type": "stream",
     "text": [
      "s1:  {1, 2, 3, 4, 5} s2:  {4, 5, 6, 7, 8}\n",
      "s1 = s1^s2  {1, 2, 3, 6, 7, 8}\n"
     ]
    }
   ],
   "source": [
    "# Example\n",
    "\n",
    "s1 = {1,2,3,4,5}\n",
    "s2 = {4,5,6,7,8}\n",
    "print (\"s1: \", s1, \"s2: \", s2)\n",
    "s3 = s1.symmetric_difference(s2)\n",
    "print (\"s1 = s1^s2 \", s3)"
   ]
  },
  {
   "cell_type": "code",
   "execution_count": null,
   "id": "d28cdf79",
   "metadata": {},
   "outputs": [],
   "source": []
  },
  {
   "cell_type": "markdown",
   "id": "b9d83adc",
   "metadata": {},
   "source": [
    "# Loop Sets"
   ]
  },
  {
   "cell_type": "markdown",
   "id": "02ecca4b",
   "metadata": {},
   "source": [
    "A set in Python is not a sequence, nor is it a mapping type class. Hence, the objects in a set cannot be traversed with index or key. However, you can traverse each item in a set using a for loop."
   ]
  },
  {
   "cell_type": "markdown",
   "id": "33e24126",
   "metadata": {},
   "source": [
    "# for loop"
   ]
  },
  {
   "cell_type": "code",
   "execution_count": 40,
   "id": "8a0032d6",
   "metadata": {},
   "outputs": [
    {
     "name": "stdout",
     "output_type": "stream",
     "text": [
      "C\n",
      "Java\n",
      "Python\n",
      "C++\n"
     ]
    }
   ],
   "source": [
    "# Example\n",
    "\n",
    "langs = {\"C\", \"C++\", \"Java\", \"Python\"}\n",
    "for lang in langs:\n",
    "    print(lang)"
   ]
  },
  {
   "cell_type": "code",
   "execution_count": 41,
   "id": "0a0992e0",
   "metadata": {},
   "outputs": [
    {
     "name": "stdout",
     "output_type": "stream",
     "text": [
      "{1, 2, 3, 4, 5, 6, 7, 8}\n"
     ]
    }
   ],
   "source": [
    "# The following example shows how you can run a for loop over the elements of one set, and use the add() method of set class to add in another set.\n",
    "\n",
    "s1={1,2,3,4,5}\n",
    "s2={4,5,6,7,8}\n",
    "for x in s2:\n",
    "    s1.add(x)\n",
    "print (s1)"
   ]
  },
  {
   "cell_type": "code",
   "execution_count": null,
   "id": "98122e9f",
   "metadata": {},
   "outputs": [],
   "source": []
  },
  {
   "cell_type": "markdown",
   "id": "d07d9e0c",
   "metadata": {},
   "source": [
    "# Join Sets"
   ]
  },
  {
   "cell_type": "markdown",
   "id": "0603c2a0",
   "metadata": {},
   "source": [
    "There are several ways to join two or more sets in Python.\n",
    "\n",
    "You can use the union() method that returns a new set containing all items from both sets, or the update() method that inserts all the items from one set into another."
   ]
  },
  {
   "cell_type": "markdown",
   "id": "6b0e92ee",
   "metadata": {},
   "source": [
    "# union() method"
   ]
  },
  {
   "cell_type": "markdown",
   "id": "ced894a0",
   "metadata": {},
   "source": [
    "The union() method returns a new set with all items from both sets."
   ]
  },
  {
   "cell_type": "code",
   "execution_count": 42,
   "id": "c57a8ff7",
   "metadata": {},
   "outputs": [
    {
     "name": "stdout",
     "output_type": "stream",
     "text": [
      "{1, 'b', 2, 3, 'c', 'a'}\n"
     ]
    }
   ],
   "source": [
    "# Example\n",
    "\n",
    "set1 = {\"a\", \"b\" , \"c\"}\n",
    "set2 = {1, 2, 3}\n",
    "\n",
    "set3 = set1.union(set2)\n",
    "print(set3)"
   ]
  },
  {
   "cell_type": "code",
   "execution_count": null,
   "id": "e4a819f0",
   "metadata": {},
   "outputs": [],
   "source": []
  },
  {
   "cell_type": "markdown",
   "id": "0e2f5e4d",
   "metadata": {},
   "source": [
    "# update() method"
   ]
  },
  {
   "cell_type": "markdown",
   "id": "6c32200c",
   "metadata": {},
   "source": [
    "The update() method inserts the items in set2 into set1."
   ]
  },
  {
   "cell_type": "code",
   "execution_count": 43,
   "id": "e1c69d10",
   "metadata": {},
   "outputs": [
    {
     "name": "stdout",
     "output_type": "stream",
     "text": [
      "{1, 'b', 2, 3, 'c', 'a'}\n"
     ]
    }
   ],
   "source": [
    "# Example\n",
    "\n",
    "set1 = {\"a\", \"b\" , \"c\"}\n",
    "set2 = {1, 2, 3}\n",
    "\n",
    "set1.update(set2)\n",
    "print(set1)"
   ]
  },
  {
   "cell_type": "code",
   "execution_count": null,
   "id": "e7c37596",
   "metadata": {},
   "outputs": [],
   "source": []
  },
  {
   "cell_type": "markdown",
   "id": "2da12109",
   "metadata": {},
   "source": [
    "# Using the \"|\" Operator"
   ]
  },
  {
   "cell_type": "markdown",
   "id": "0f4b46c5",
   "metadata": {},
   "source": [
    "The \"|\" symbol (pipe) is defined as the union operator. It performs the A∪B operation and returns a set of items in A, B or both. Set doesn't allow duplicate items."
   ]
  },
  {
   "cell_type": "code",
   "execution_count": 44,
   "id": "4397733d",
   "metadata": {},
   "outputs": [
    {
     "name": "stdout",
     "output_type": "stream",
     "text": [
      "{1, 2, 3, 4, 5, 6, 7, 8}\n"
     ]
    }
   ],
   "source": [
    "# Example\n",
    "\n",
    "s1={1,2,3,4,5}\n",
    "s2={4,5,6,7,8}\n",
    "s3 = s1|s2\n",
    "print (s3)"
   ]
  },
  {
   "cell_type": "code",
   "execution_count": null,
   "id": "c57520cb",
   "metadata": {},
   "outputs": [],
   "source": []
  },
  {
   "cell_type": "markdown",
   "id": "47f1caff",
   "metadata": {},
   "source": [
    "# Using the unpacking Operator"
   ]
  },
  {
   "cell_type": "markdown",
   "id": "859ba397",
   "metadata": {},
   "source": [
    "In Python, the \"*\" symbol is used as unpacking operator. The unpacking operator internally assign each element in a collection to a separate variable."
   ]
  },
  {
   "cell_type": "code",
   "execution_count": 45,
   "id": "c29f1578",
   "metadata": {},
   "outputs": [
    {
     "name": "stdout",
     "output_type": "stream",
     "text": [
      "{1, 2, 3, 4, 5, 6, 7, 8}\n"
     ]
    }
   ],
   "source": [
    "# Example \n",
    "\n",
    "s1={1,2,3,4,5}\n",
    "s2={4,5,6,7,8}\n",
    "s3 = {*s1, *s2}\n",
    "print (s3)"
   ]
  },
  {
   "cell_type": "code",
   "execution_count": null,
   "id": "0bc2a3b7",
   "metadata": {},
   "outputs": [],
   "source": []
  },
  {
   "cell_type": "markdown",
   "id": "3561b0c0",
   "metadata": {},
   "source": [
    "# Copy Sets"
   ]
  },
  {
   "cell_type": "markdown",
   "id": "83d1711c",
   "metadata": {},
   "source": [
    "The copy() method in set class creates a shallow copy of a set object."
   ]
  },
  {
   "cell_type": "code",
   "execution_count": 46,
   "id": "b30f93e5",
   "metadata": {},
   "outputs": [
    {
     "name": "stdout",
     "output_type": "stream",
     "text": [
      "lang1:  {'C', 'Java', 'Python', 'C++'} id(lang1):  1731603772800\n",
      "lang2:  {'C', 'Java', 'Python', 'C++'} id(lang2):  1731603263040\n",
      "After updating lang1\n",
      "lang1:  {'C', 'Python', 'PHP', 'C++', 'Java'} id(lang1):  1731603772800\n",
      "lang2:  {'C', 'Java', 'Python', 'C++'} id(lang2):  1731603263040\n"
     ]
    }
   ],
   "source": [
    "lang1 = {\"C\", \"C++\", \"Java\", \"Python\"}\n",
    "print (\"lang1: \", lang1, \"id(lang1): \", id(lang1))\n",
    "lang2 = lang1.copy()\n",
    "print (\"lang2: \", lang2, \"id(lang2): \", id(lang2))\n",
    "lang1.add(\"PHP\")\n",
    "print (\"After updating lang1\")\n",
    "print (\"lang1: \", lang1, \"id(lang1): \", id(lang1))\n",
    "print (\"lang2: \", lang2, \"id(lang2): \", id(lang2))"
   ]
  },
  {
   "cell_type": "code",
   "execution_count": null,
   "id": "89fd39ff",
   "metadata": {},
   "outputs": [],
   "source": []
  },
  {
   "cell_type": "markdown",
   "id": "9a1db413",
   "metadata": {},
   "source": [
    "# Set Methods"
   ]
  },
  {
   "attachments": {
    "image.png": {
     "image/png": "[encoded data removed]"
    }
   },
   "cell_type": "markdown",
   "id": "2f082630",
   "metadata": {},
   "source": [
    "![image.png](attachment:image.png)"
   ]
  }
 ],
 "metadata": {
  "kernelspec": {
   "display_name": "Python 3 (ipykernel)",
   "language": "python",
   "name": "python3"
  },
  "language_info": {
   "codemirror_mode": {
    "name": "ipython",
    "version": 3
   },
   "file_extension": ".py",
   "mimetype": "text/x-python",
   "name": "python",
   "nbconvert_exporter": "python",
   "pygments_lexer": "ipython3",
   "version": "3.9.12"
  }
 },
 "nbformat": 4,
 "nbformat_minor": 5
}
