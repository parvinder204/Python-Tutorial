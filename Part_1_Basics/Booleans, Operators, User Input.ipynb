{
 "cells": [
  {
   "cell_type": "markdown",
   "id": "d36377bc",
   "metadata": {},
   "source": [
    "# Welcome to Python 3.7"
   ]
  },
  {
   "cell_type": "markdown",
   "id": "1d8d6c3b",
   "metadata": {},
   "source": [
    "Python Booleans, Operators, User Input"
   ]
  },
  {
   "cell_type": "markdown",
   "id": "0af17bba",
   "metadata": {},
   "source": [
    "# Python Booleans"
   ]
  },
  {
   "cell_type": "markdown",
   "id": "c2e4efd0",
   "metadata": {},
   "source": [
    "In Python, bool is a sub-type of int type.\n",
    "Boolean represent one of two values True or False\n",
    "\n",
    "A bool object is accepted as argument to type conversion functions. With True as argument, the int() function returns 1, float() returns 1.0; whereas for False, they return 0 and 0.0 respectively.\n"
   ]
  },
  {
   "cell_type": "code",
   "execution_count": 1,
   "id": "1138a171",
   "metadata": {},
   "outputs": [
    {
     "name": "stdout",
     "output_type": "stream",
     "text": [
      "<class 'bool'> True\n",
      "<class 'bool'> False\n"
     ]
    }
   ],
   "source": [
    "a = True\n",
    "b = False\n",
    "\n",
    "print(type(a),a)\n",
    "print(type(b),b)"
   ]
  },
  {
   "cell_type": "code",
   "execution_count": 2,
   "id": "b0809c60",
   "metadata": {},
   "outputs": [
    {
     "name": "stdout",
     "output_type": "stream",
     "text": [
      "1 0\n",
      "1.0 0.0\n",
      "(1+0j) 0j\n"
     ]
    }
   ],
   "source": [
    "# Booleans typecasting\n",
    "\n",
    "# into int\n",
    "x = int(True)\n",
    "y = int(False)\n",
    "\n",
    "print(x,y)\n",
    "\n",
    "#i into float\n",
    "a = float(True)\n",
    "b = float(False)\n",
    "\n",
    "print(a,b)\n",
    "\n",
    "# into complex\n",
    "p = complex(True)\n",
    "q = complex(False)\n",
    "\n",
    "print(p,q)\n"
   ]
  },
  {
   "cell_type": "code",
   "execution_count": 3,
   "id": "796388e5",
   "metadata": {},
   "outputs": [
    {
     "name": "stdout",
     "output_type": "stream",
     "text": [
      "True\n",
      "False\n"
     ]
    }
   ],
   "source": [
    "# Boolean values\n",
    "\n",
    "a = 5\n",
    "b = 4\n",
    "c = 5\n",
    "\n",
    "print(a==c)\n",
    "print(a==b)\n"
   ]
  },
  {
   "cell_type": "code",
   "execution_count": 4,
   "id": "f61e4cc8",
   "metadata": {},
   "outputs": [
    {
     "name": "stdout",
     "output_type": "stream",
     "text": [
      "True\n",
      "True\n"
     ]
    }
   ],
   "source": [
    "# evaluating two variable\n",
    "\n",
    "x = \"Hello\"\n",
    "y = 15\n",
    "\n",
    "print(bool(x))\n",
    "print(bool(y))"
   ]
  },
  {
   "cell_type": "code",
   "execution_count": 5,
   "id": "fe252117",
   "metadata": {},
   "outputs": [
    {
     "name": "stdout",
     "output_type": "stream",
     "text": [
      "YES!\n"
     ]
    }
   ],
   "source": [
    "def myFunction():\n",
    "    return True\n",
    "\n",
    "if myFunction():\n",
    "    print(\"YES!\")\n",
    "else:\n",
    "    print(\"NO!\")"
   ]
  },
  {
   "cell_type": "code",
   "execution_count": 6,
   "id": "24ae1f80",
   "metadata": {},
   "outputs": [
    {
     "name": "stdout",
     "output_type": "stream",
     "text": [
      "False\n"
     ]
    }
   ],
   "source": [
    "class myclass():\n",
    "    def __len__(self):\n",
    "        return 0\n",
    "\n",
    "myobj = myclass()\n",
    "print(bool(myobj))"
   ]
  },
  {
   "cell_type": "code",
   "execution_count": 7,
   "id": "b6b6391c",
   "metadata": {},
   "outputs": [
    {
     "name": "stdout",
     "output_type": "stream",
     "text": [
      "True\n"
     ]
    }
   ],
   "source": [
    "# for checking instances\n",
    "\n",
    "x = 200\n",
    "print(isinstance(x, int))"
   ]
  },
  {
   "cell_type": "markdown",
   "id": "ef4caa48",
   "metadata": {},
   "source": [
    "# Operators"
   ]
  },
  {
   "cell_type": "markdown",
   "id": "3646ab70",
   "metadata": {},
   "source": [
    "Operators are used to perform operations on variables and values.\n",
    "\n",
    "Python provide different type of operators which are symbols and used to perform a certain most commonly required operations on one or more operands. Operators allow different operations like addition, subtraction, multiplication, division etc."
   ]
  },
  {
   "cell_type": "markdown",
   "id": "d6a013d1",
   "metadata": {},
   "source": [
    "Python language supports the following types of operators −\n",
    "\n",
    "Arithmetic Operators\n",
    "\n",
    "Comparison (Relational) Operators\n",
    "\n",
    "Assignment Operators\n",
    "\n",
    "Logical Operators\n",
    "\n",
    "Bitwise Operators\n",
    "\n",
    "Membership Operators\n",
    "\n",
    "Identity Operators"
   ]
  },
  {
   "cell_type": "markdown",
   "id": "a7e492ea",
   "metadata": {},
   "source": [
    "# Arithmetic Operations"
   ]
  },
  {
   "cell_type": "markdown",
   "id": "60c0f805",
   "metadata": {},
   "source": [
    "Arithmetic operators are used to perform basic mathematical operations."
   ]
  },
  {
   "cell_type": "code",
   "execution_count": 8,
   "id": "0f3b0dcb",
   "metadata": {},
   "outputs": [
    {
     "name": "stdout",
     "output_type": "stream",
     "text": [
      "11\n",
      "5\n",
      "24\n",
      "2.6666666666666665\n",
      "2\n",
      "512\n",
      "2\n"
     ]
    }
   ],
   "source": [
    "a = 8\n",
    "b = 3\n",
    "\n",
    "print(a+b)  #addition\n",
    "print(a-b)  #subtraction\n",
    "print(a*b)  #multiplication\n",
    "print(a/b)  #division\n",
    "print(a%b)  #modulous\n",
    "print(a**b) #exponent\n",
    "print(a//b) #floor division"
   ]
  },
  {
   "cell_type": "code",
   "execution_count": null,
   "id": "73feeb58",
   "metadata": {},
   "outputs": [],
   "source": []
  },
  {
   "cell_type": "markdown",
   "id": "5776a68f",
   "metadata": {},
   "source": [
    "# Comparison Operators"
   ]
  },
  {
   "cell_type": "markdown",
   "id": "7356ce8a",
   "metadata": {},
   "source": [
    "These operators compare the values on either sides of them and decide the relation among them. They are also called Relational operators."
   ]
  },
  {
   "cell_type": "code",
   "execution_count": 9,
   "id": "c21fa906",
   "metadata": {},
   "outputs": [
    {
     "name": "stdout",
     "output_type": "stream",
     "text": [
      "False\n",
      "True\n",
      "False\n",
      "True\n",
      "False\n",
      "True\n"
     ]
    }
   ],
   "source": [
    "x = 5\n",
    "y = 7\n",
    "\n",
    "print(x == y)  #eqaul\n",
    "print(x != y)  #Not equal\n",
    "print(x > y)   #greater than\n",
    "print(x < y)   #less than\n",
    "print(x >= y)  #greater than or equal to\n",
    "print(x <= y)  #less than or equal to"
   ]
  },
  {
   "cell_type": "code",
   "execution_count": null,
   "id": "bff78ab4",
   "metadata": {},
   "outputs": [],
   "source": []
  },
  {
   "cell_type": "markdown",
   "id": "38c5a516",
   "metadata": {},
   "source": [
    "# Assignment Operators\n"
   ]
  },
  {
   "cell_type": "markdown",
   "id": "8f329265",
   "metadata": {},
   "source": [
    "Assignment operators are used to assign values to variables."
   ]
  },
  {
   "cell_type": "code",
   "execution_count": 13,
   "id": "586529bb",
   "metadata": {},
   "outputs": [],
   "source": [
    "# (=)\n",
    "a = 10  \n",
    "#a = 10\n",
    "\n",
    "# (+=)\n",
    "a += 30 \n",
    "#a = a + 30\n",
    "\n",
    "# (-=)\n",
    "a -= 15 \n",
    "#a = a - 15\n",
    "\n",
    "# (*=)\n",
    "a *= 10 \n",
    "#a = a * 10\n",
    "\n",
    "# (/=)\n",
    "a /= 5\n",
    "#a = a / 5\n",
    "\n",
    "# (%=)\n",
    "a %= 5\n",
    "#a = a % 5\n",
    "\n",
    "# (**=)\n",
    "a **= 4\n",
    "#a = a ** 4\n",
    "\n",
    "# (//=)\n",
    "a //= 5\n",
    "#a = a // 5\n",
    "\n"
   ]
  },
  {
   "cell_type": "code",
   "execution_count": null,
   "id": "304071ad",
   "metadata": {},
   "outputs": [],
   "source": []
  },
  {
   "cell_type": "markdown",
   "id": "501ed46b",
   "metadata": {},
   "source": [
    "# Logical Operators"
   ]
  },
  {
   "cell_type": "markdown",
   "id": "4de14dda",
   "metadata": {},
   "source": [
    "Python logical operators are used to combile two or more conditions and check the final result.\n",
    "\n",
    "AND and\n",
    "\n",
    "OR or\n",
    "\n",
    "NOT not"
   ]
  },
  {
   "cell_type": "code",
   "execution_count": 14,
   "id": "41fdc719",
   "metadata": {},
   "outputs": [
    {
     "name": "stdout",
     "output_type": "stream",
     "text": [
      "True\n",
      "True\n",
      "False\n"
     ]
    }
   ],
   "source": [
    "x = 23\n",
    "\n",
    "# and \n",
    "print(x > 20 and x < 25)\n",
    "\n",
    "# or \n",
    "print((x > 45 or x < 30))\n",
    "\n",
    "# not\n",
    "print(not(x > 20 and x < 25))"
   ]
  },
  {
   "cell_type": "code",
   "execution_count": null,
   "id": "ce8ff473",
   "metadata": {},
   "outputs": [],
   "source": []
  },
  {
   "cell_type": "markdown",
   "id": "9c95adce",
   "metadata": {},
   "source": [
    "# Bitwise Operators"
   ]
  },
  {
   "cell_type": "markdown",
   "id": "afa87820",
   "metadata": {},
   "source": [
    "Bitwise operators are used to compare (binary) numbers.\n",
    "\n",
    "& AND  Sets each bit to 1 if both bits are 1\n",
    "\n",
    "| OR   Sets each bit to 1 if one of two bits is 1 \n",
    "\n",
    "^ XOR  Sets each bit to 1 if only one of two bits is 1\n",
    "\n",
    "~ NOT  Inverts all the bits\n",
    "\n",
    "<< Zero fill left shift        >> Signed right shift\n"
   ]
  },
  {
   "cell_type": "code",
   "execution_count": 17,
   "id": "537e88f2",
   "metadata": {},
   "outputs": [
    {
     "name": "stdout",
     "output_type": "stream",
     "text": [
      "2\n"
     ]
    }
   ],
   "source": [
    "print(6 & 3)\n",
    "\n",
    "#The & operator compares each bit and set it to 1 if both are 1, otherwise it is set to 0:"
   ]
  },
  {
   "cell_type": "code",
   "execution_count": 18,
   "id": "6ea2cf85",
   "metadata": {},
   "outputs": [
    {
     "name": "stdout",
     "output_type": "stream",
     "text": [
      "7\n"
     ]
    }
   ],
   "source": [
    "print(6 | 3)\n",
    "\n",
    "#The | operator compares each bit and set it to 1 if one or both is 1, otherwise it is set to 0"
   ]
  },
  {
   "cell_type": "code",
   "execution_count": 19,
   "id": "6913e261",
   "metadata": {},
   "outputs": [
    {
     "name": "stdout",
     "output_type": "stream",
     "text": [
      "5\n"
     ]
    }
   ],
   "source": [
    "print(6 ^ 3)\n",
    "\n",
    "#The ^ operator compares each bit and set it to 1 if only one is 1, otherwise (if both are 1 or both are 0) it is set to 0"
   ]
  },
  {
   "cell_type": "code",
   "execution_count": 20,
   "id": "69f96238",
   "metadata": {},
   "outputs": [
    {
     "name": "stdout",
     "output_type": "stream",
     "text": [
      "-4\n"
     ]
    }
   ],
   "source": [
    "print(~3)\n",
    "\n",
    "#The ~ operator inverts each bit (0 becomes 1 and 1 becomes 0)."
   ]
  },
  {
   "cell_type": "code",
   "execution_count": 21,
   "id": "a5434e52",
   "metadata": {},
   "outputs": [
    {
     "name": "stdout",
     "output_type": "stream",
     "text": [
      "12\n"
     ]
    }
   ],
   "source": [
    "print(3 << 2)\n",
    "\n",
    "#The << operator inserts the specified number of 0's (in this case 2) from the right and let the same amount of leftmost bits fall off"
   ]
  },
  {
   "cell_type": "code",
   "execution_count": 22,
   "id": "10b2a345",
   "metadata": {},
   "outputs": [
    {
     "name": "stdout",
     "output_type": "stream",
     "text": [
      "2\n"
     ]
    }
   ],
   "source": [
    "print(8 >> 2)\n",
    "\n",
    "#The >> operator moves each bit the specified number of times to the right. Empty holes at the left are filled with 0's."
   ]
  },
  {
   "cell_type": "code",
   "execution_count": null,
   "id": "2f50c9d8",
   "metadata": {},
   "outputs": [],
   "source": []
  },
  {
   "cell_type": "markdown",
   "id": "88bff2a5",
   "metadata": {},
   "source": [
    "# Membership Operators"
   ]
  },
  {
   "cell_type": "markdown",
   "id": "72f1c117",
   "metadata": {},
   "source": [
    "Python's membership operators test for membership in a sequence, such as strings, lists, or tuples.\n",
    "\n",
    "in  \n",
    "\n",
    "not in "
   ]
  },
  {
   "cell_type": "code",
   "execution_count": 24,
   "id": "24cdc440",
   "metadata": {},
   "outputs": [
    {
     "name": "stdout",
     "output_type": "stream",
     "text": [
      "True\n"
     ]
    }
   ],
   "source": [
    "x = [\"apple\", \"banana\"]\n",
    "\n",
    "print(\"banana\" in x)\n"
   ]
  },
  {
   "cell_type": "code",
   "execution_count": 25,
   "id": "08564af6",
   "metadata": {},
   "outputs": [
    {
     "name": "stdout",
     "output_type": "stream",
     "text": [
      "True\n"
     ]
    }
   ],
   "source": [
    "x = [\"apple\", \"banana\"]\n",
    "\n",
    "print(\"pineapple\" not in x)"
   ]
  },
  {
   "cell_type": "code",
   "execution_count": null,
   "id": "352c8b1c",
   "metadata": {},
   "outputs": [],
   "source": []
  },
  {
   "cell_type": "markdown",
   "id": "5db9be78",
   "metadata": {},
   "source": [
    "# Identity Operators"
   ]
  },
  {
   "cell_type": "markdown",
   "id": "b2848dd8",
   "metadata": {},
   "source": [
    "Identity operators are used to compare the objects, not if they are equal, but if they are actually the same object, with the same memory location\n",
    "\n",
    "is \n",
    "\n",
    "is not "
   ]
  },
  {
   "cell_type": "code",
   "execution_count": 27,
   "id": "b7ebd940",
   "metadata": {},
   "outputs": [
    {
     "name": "stdout",
     "output_type": "stream",
     "text": [
      "True\n",
      "False\n",
      "True\n"
     ]
    }
   ],
   "source": [
    "x = [\"apple\", \"banana\"]\n",
    "y = [\"apple\", \"banana\"]\n",
    "z = x\n",
    "\n",
    "print(x is z)\n",
    "# returns True because z is the same object as x\n",
    "\n",
    "print(x is y)\n",
    "# returns False because x is not the same object as y, even if they have the same content\n",
    "\n",
    "print(x == y)\n",
    "# to demonstrate the difference betweeen \"is\" and \"==\": this comparison returns True because x is equal to y"
   ]
  },
  {
   "cell_type": "code",
   "execution_count": null,
   "id": "c0f9bccf",
   "metadata": {},
   "outputs": [],
   "source": []
  },
  {
   "cell_type": "markdown",
   "id": "c48c9110",
   "metadata": {},
   "source": [
    "# Operators Precedence"
   ]
  },
  {
   "attachments": {
    "image.png": {
     "image/png": "[encoded data removed]"
    }
   },
   "cell_type": "markdown",
   "id": "13ff186f",
   "metadata": {},
   "source": [
    "![image.png](attachment:image.png)"
   ]
  },
  {
   "cell_type": "code",
   "execution_count": null,
   "id": "c39ed45e",
   "metadata": {},
   "outputs": [],
   "source": []
  },
  {
   "cell_type": "markdown",
   "id": "1bec4a81",
   "metadata": {},
   "source": [
    "# User Input"
   ]
  },
  {
   "cell_type": "markdown",
   "id": "d0a16ca0",
   "metadata": {},
   "source": [
    "You need some mechanism to assign different value to the variable in the runtime − while the program is running. Python's input() function does the same job.\n",
    "\n",
    "Following is the syntax of Python's standard library input() function.\n",
    "\n",
    ">>> var = input()\n",
    "\n",
    "\n",
    "When the interpreter encounters input() function, it waits for the user to enter data from the standard input stream (keyboard) till the Enter key is pressed. The sequence of characters may be stored in a string variable for further use.\n",
    "\n",
    "On reading the Enter key, the program proceeds to the next statement."
   ]
  },
  {
   "cell_type": "code",
   "execution_count": 29,
   "id": "1e925c7b",
   "metadata": {},
   "outputs": [
    {
     "name": "stdout",
     "output_type": "stream",
     "text": [
      "Enter your name : Parvinder\n",
      "Enter your city : Chandigarh\n",
      "Hello My name is Parvinder\n",
      "I am from  Chandigarh\n"
     ]
    }
   ],
   "source": [
    "# string input \n",
    "\n",
    "name = input(\"Enter your name : \")\n",
    "city = input(\"Enter your city : \")\n",
    "\n",
    "print (\"Hello My name is\", name)\n",
    "print (\"I am from \", city)"
   ]
  },
  {
   "cell_type": "code",
   "execution_count": null,
   "id": "8ffb7e33",
   "metadata": {},
   "outputs": [],
   "source": []
  },
  {
   "cell_type": "code",
   "execution_count": 30,
   "id": "8b8d5cdd",
   "metadata": {},
   "outputs": [
    {
     "name": "stdout",
     "output_type": "stream",
     "text": [
      "Enter width : 45\n",
      "Enter height : 20\n",
      "Area of rectangle =  900\n"
     ]
    }
   ],
   "source": [
    "# int input\n",
    "\n",
    "width = int(input(\"Enter width : \"))\n",
    "height = int(input(\"Enter height : \"))\n",
    "\n",
    "area = width*height\n",
    "print (\"Area of rectangle = \", area)"
   ]
  },
  {
   "cell_type": "code",
   "execution_count": null,
   "id": "96930775",
   "metadata": {},
   "outputs": [],
   "source": []
  },
  {
   "cell_type": "code",
   "execution_count": 32,
   "id": "2798fe19",
   "metadata": {},
   "outputs": [
    {
     "name": "stdout",
     "output_type": "stream",
     "text": [
      "Enter Amount : 45.5\n",
      "Enter rate of interest : 6.5\n",
      "Amount:  45.5 Interest:  2.9575\n"
     ]
    }
   ],
   "source": [
    "# float input\n",
    "\n",
    "amount = float(input(\"Enter Amount : \"))\n",
    "rate = float(input(\"Enter rate of interest : \"))\n",
    "\n",
    "interest = amount*rate/100\n",
    "print (\"Amount: \", amount, \"Interest: \", interest)"
   ]
  },
  {
   "cell_type": "code",
   "execution_count": null,
   "id": "9f5011a1",
   "metadata": {},
   "outputs": [],
   "source": []
  }
 ],
 "metadata": {
  "kernelspec": {
   "display_name": "Python 3 (ipykernel)",
   "language": "python",
   "name": "python3"
  },
  "language_info": {
   "codemirror_mode": {
    "name": "ipython",
    "version": 3
   },
   "file_extension": ".py",
   "mimetype": "text/x-python",
   "name": "python",
   "nbconvert_exporter": "python",
   "pygments_lexer": "ipython3",
   "version": "3.9.12"
  }
 },
 "nbformat": 4,
 "nbformat_minor": 5
}
