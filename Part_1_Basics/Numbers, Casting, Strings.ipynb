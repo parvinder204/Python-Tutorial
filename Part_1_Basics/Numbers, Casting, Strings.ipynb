{
 "cells": [
  {
   "cell_type": "markdown",
   "id": "6b2244f3",
   "metadata": {},
   "source": [
    "# Welcome to Python 3.7 "
   ]
  },
  {
   "cell_type": "code",
   "execution_count": 1,
   "id": "4934d38c",
   "metadata": {},
   "outputs": [],
   "source": [
    "#Starting with Python Numbers"
   ]
  },
  {
   "cell_type": "markdown",
   "id": "841c89e8",
   "metadata": {},
   "source": [
    "# Python Number"
   ]
  },
  {
   "cell_type": "code",
   "execution_count": 2,
   "id": "a9506fec",
   "metadata": {},
   "outputs": [
    {
     "name": "stdout",
     "output_type": "stream",
     "text": [
      "Numbers\n"
     ]
    }
   ],
   "source": [
    "\"\"\"\n",
    "Three types:\n",
    " int\n",
    " float\n",
    " complex\n",
    "\"\"\"\n",
    "\n",
    "print(\"Numbers\")"
   ]
  },
  {
   "cell_type": "code",
   "execution_count": null,
   "id": "0302ed70",
   "metadata": {},
   "outputs": [],
   "source": []
  },
  {
   "cell_type": "markdown",
   "id": "d145eef6",
   "metadata": {},
   "source": [
    "# Integers int()"
   ]
  },
  {
   "cell_type": "markdown",
   "id": "c699e372",
   "metadata": {},
   "source": [
    "int is a whole number, positive or negative without decimals, of unlimited length"
   ]
  },
  {
   "cell_type": "code",
   "execution_count": 5,
   "id": "0c9ed201",
   "metadata": {},
   "outputs": [
    {
     "name": "stdout",
     "output_type": "stream",
     "text": [
      "<class 'int'> 3\n",
      "<class 'int'> -6\n",
      "<class 'int'> 8777677867\n"
     ]
    }
   ],
   "source": [
    "x = 3\n",
    "y = -6\n",
    "z = 8777677867\n",
    "\n",
    "print(type(x),x)\n",
    "print(type(y),y)\n",
    "print(type(z),z)"
   ]
  },
  {
   "cell_type": "code",
   "execution_count": 6,
   "id": "965b6a41",
   "metadata": {},
   "outputs": [
    {
     "name": "stdout",
     "output_type": "stream",
     "text": [
      "3\n",
      "<class 'int'>\n"
     ]
    }
   ],
   "source": [
    "# Multiple assignment of variable to sinlgle numbers\n",
    "\n",
    "x = z = y = 3\n",
    "\n",
    "print(z)\n",
    "print(type(x))"
   ]
  },
  {
   "cell_type": "code",
   "execution_count": null,
   "id": "8d9a53aa",
   "metadata": {},
   "outputs": [],
   "source": []
  },
  {
   "cell_type": "markdown",
   "id": "241a2bb4",
   "metadata": {},
   "source": [
    "# FLOATING POINT float()"
   ]
  },
  {
   "cell_type": "markdown",
   "id": "71c68b7a",
   "metadata": {},
   "source": [
    "floating point number is a positive or negative, containing one or more decimals\n",
    "Float can also be scientific numbers with an \"e\" to indicate the power of 10."
   ]
  },
  {
   "cell_type": "code",
   "execution_count": 8,
   "id": "5d13da63",
   "metadata": {},
   "outputs": [
    {
     "name": "stdout",
     "output_type": "stream",
     "text": [
      "<class 'float'> 3.7\n",
      "<class 'float'> -2.3\n"
     ]
    }
   ],
   "source": [
    "python = 3.7\n",
    "\n",
    "jython = -2.3\n",
    "\n",
    "print(type(python), python)\n",
    "print(type(jython), jython)"
   ]
  },
  {
   "cell_type": "code",
   "execution_count": 9,
   "id": "387320f7",
   "metadata": {},
   "outputs": [
    {
     "name": "stdout",
     "output_type": "stream",
     "text": [
      "<class 'float'> 560000000.0\n",
      "<class 'float'> -3.423e+100\n"
     ]
    }
   ],
   "source": [
    "d = 56e7\n",
    "c = -34.23e99\n",
    "\n",
    "print(type(d),d)\n",
    "print(type(c),c)"
   ]
  },
  {
   "cell_type": "code",
   "execution_count": null,
   "id": "48f8166f",
   "metadata": {},
   "outputs": [],
   "source": []
  },
  {
   "cell_type": "markdown",
   "id": "337462a4",
   "metadata": {},
   "source": [
    "# COMPLEX complex()"
   ]
  },
  {
   "cell_type": "markdown",
   "id": "76773304",
   "metadata": {},
   "source": [
    "Complex numbers are writte with a \"j\" as the imaginary part"
   ]
  },
  {
   "cell_type": "code",
   "execution_count": 10,
   "id": "e814c144",
   "metadata": {},
   "outputs": [
    {
     "name": "stdout",
     "output_type": "stream",
     "text": [
      "<class 'complex'> (4+2j)\n"
     ]
    }
   ],
   "source": [
    "g = 4+2j\n",
    "\n",
    "print(type(g),g)"
   ]
  },
  {
   "cell_type": "code",
   "execution_count": 12,
   "id": "1e895d6c",
   "metadata": {},
   "outputs": [
    {
     "name": "stdout",
     "output_type": "stream",
     "text": [
      "<class 'complex'> (-5+2j)\n"
     ]
    }
   ],
   "source": [
    "h = -5+2j\n",
    "\n",
    "print(type(h),h)"
   ]
  },
  {
   "cell_type": "code",
   "execution_count": null,
   "id": "dd6c0e43",
   "metadata": {},
   "outputs": [],
   "source": []
  },
  {
   "cell_type": "markdown",
   "id": "db0dcbde",
   "metadata": {},
   "source": [
    "# RANDOM NUMBER "
   ]
  },
  {
   "cell_type": "markdown",
   "id": "107c2bfd",
   "metadata": {},
   "source": [
    "Python does not have a random() function to make a random number, but Python has a built-in module called random that can be used to make random numbers"
   ]
  },
  {
   "cell_type": "code",
   "execution_count": 13,
   "id": "9c588079",
   "metadata": {},
   "outputs": [
    {
     "name": "stdout",
     "output_type": "stream",
     "text": [
      "8\n"
     ]
    }
   ],
   "source": [
    "import random\n",
    "\n",
    "print(random.randrange(1,10))"
   ]
  },
  {
   "cell_type": "code",
   "execution_count": 14,
   "id": "380f277a",
   "metadata": {},
   "outputs": [
    {
     "name": "stdout",
     "output_type": "stream",
     "text": [
      "5\n"
     ]
    }
   ],
   "source": [
    "print(random.randrange(1,10))"
   ]
  },
  {
   "cell_type": "code",
   "execution_count": 15,
   "id": "538b67dc",
   "metadata": {},
   "outputs": [
    {
     "name": "stdout",
     "output_type": "stream",
     "text": [
      "3\n"
     ]
    }
   ],
   "source": [
    "#everytime random function give any random number\n",
    "\n",
    "print(random.randrange(1,10))"
   ]
  },
  {
   "cell_type": "code",
   "execution_count": null,
   "id": "ccc27b3d",
   "metadata": {},
   "outputs": [],
   "source": []
  },
  {
   "cell_type": "markdown",
   "id": "b1258397",
   "metadata": {},
   "source": [
    "# Type conversion in numbers "
   ]
  },
  {
   "cell_type": "markdown",
   "id": "7b9553a9",
   "metadata": {},
   "source": [
    "It convert from one type to another with the int(), float(), and complex() methods\n",
    "\n",
    "Note: TypeError: can't convert complex to int"
   ]
  },
  {
   "cell_type": "code",
   "execution_count": 17,
   "id": "3d4c13d4",
   "metadata": {},
   "outputs": [
    {
     "name": "stdout",
     "output_type": "stream",
     "text": [
      "5 5.0\n",
      "3.7 (3.7+0j)\n",
      "1j 3.7\n"
     ]
    }
   ],
   "source": [
    "# type conversion between numbers\n",
    "\n",
    "x = 5\n",
    "y = 3.7\n",
    "z = 1j\n",
    "\n",
    "#int to float\n",
    "a = float(x)\n",
    "\n",
    "#float to complex\n",
    "b = complex(y)\n",
    "\n",
    "#complex to int\n",
    "c = int(y)\n",
    "\n",
    "print(x,a)\n",
    "print(y,b)\n",
    "print(z,y)"
   ]
  },
  {
   "cell_type": "code",
   "execution_count": null,
   "id": "f3343b3a",
   "metadata": {},
   "outputs": [],
   "source": []
  },
  {
   "cell_type": "markdown",
   "id": "3b8412ec",
   "metadata": {},
   "source": [
    "# Casting "
   ]
  },
  {
   "cell_type": "markdown",
   "id": "c7df22b6",
   "metadata": {},
   "source": [
    "Casting in python is therefore done using constructor functions:\n",
    "\n",
    "int() - constructs an integer number from an integer literal, a float literal, or a string literal.\n",
    "\n",
    "float() - constructs a float number from an integer literal, a float literal or a string literal.\n",
    "\n",
    "str() - constructs a string from a wide variety of data types, including strings, integer literals and float literals"
   ]
  },
  {
   "cell_type": "code",
   "execution_count": 21,
   "id": "27c94be3",
   "metadata": {},
   "outputs": [
    {
     "name": "stdout",
     "output_type": "stream",
     "text": [
      "3\n",
      "<class 'int'>\n",
      "<class 'float'>\n"
     ]
    }
   ],
   "source": [
    "x = int(3.50)\n",
    "\n",
    "# 3.50 floating number will cast into 3 beacause of int() function\n",
    "\n",
    "print(x)\n",
    "print(type(x))\n",
    "\n",
    "#otherwise\n",
    "\n",
    "print(type(3.50))"
   ]
  },
  {
   "cell_type": "code",
   "execution_count": 22,
   "id": "826def8e",
   "metadata": {},
   "outputs": [
    {
     "name": "stdout",
     "output_type": "stream",
     "text": [
      "7.0\n",
      "<class 'float'>\n",
      "<class 'int'>\n"
     ]
    }
   ],
   "source": [
    "y = float(7)\n",
    "\n",
    "# 7 integer number will cast into 7.0 because of float() function\n",
    "\n",
    "print(y)\n",
    "print(type(y))\n",
    "\n",
    "#otherwise\n",
    "\n",
    "print(type(7))"
   ]
  },
  {
   "cell_type": "code",
   "execution_count": 24,
   "id": "6bbea50c",
   "metadata": {},
   "outputs": [
    {
     "name": "stdout",
     "output_type": "stream",
     "text": [
      "2\n",
      "<class 'str'>\n",
      "<class 'int'>\n"
     ]
    }
   ],
   "source": [
    "s = str(2)\n",
    "\n",
    "# 2 integer number will cast into '2' because of str() function\n",
    "\n",
    "print(s)\n",
    "print(type(s))\n",
    "\n",
    "#otherwise\n",
    "\n",
    "print(type(2))"
   ]
  },
  {
   "cell_type": "code",
   "execution_count": null,
   "id": "e8e535d4",
   "metadata": {},
   "outputs": [],
   "source": []
  },
  {
   "cell_type": "markdown",
   "id": "4de3d94e",
   "metadata": {},
   "source": [
    "# Strings"
   ]
  },
  {
   "cell_type": "markdown",
   "id": "8c83c01b",
   "metadata": {},
   "source": [
    "Strings in python are surrounded by either single quotation marks, or double quotation marks.\n",
    "\n",
    "'Python' is the same as \"Python\""
   ]
  },
  {
   "cell_type": "code",
   "execution_count": 25,
   "id": "992a33b3",
   "metadata": {},
   "outputs": [
    {
     "name": "stdout",
     "output_type": "stream",
     "text": [
      "Python\n",
      "Python\n"
     ]
    }
   ],
   "source": [
    "print('Python')\n",
    "print(\"Python\")"
   ]
  },
  {
   "cell_type": "code",
   "execution_count": 26,
   "id": "21ec40ca",
   "metadata": {},
   "outputs": [
    {
     "name": "stdout",
     "output_type": "stream",
     "text": [
      "Parvinder\n"
     ]
    }
   ],
   "source": [
    "# assingning String to a variable\n",
    "\n",
    "a = \"Parvinder\"\n",
    "print(a)"
   ]
  },
  {
   "cell_type": "code",
   "execution_count": 27,
   "id": "0a62e026",
   "metadata": {},
   "outputs": [
    {
     "name": "stdout",
     "output_type": "stream",
     "text": [
      "Python is easy to code.\n",
      "It has various libararies and framework.\n",
      "It is an open-source programming language.\n",
      "\n",
      "<class 'str'>\n"
     ]
    }
   ],
   "source": [
    "# Multiline Strings\n",
    "\n",
    "s = \"\"\"Python is easy to code.\n",
    "It has various libararies and framework.\n",
    "It is an open-source programming language.\n",
    "\"\"\"\n",
    "\n",
    "print(s)\n",
    "print(type(s))"
   ]
  },
  {
   "cell_type": "code",
   "execution_count": null,
   "id": "ae06dc7f",
   "metadata": {},
   "outputs": [],
   "source": []
  },
  {
   "cell_type": "markdown",
   "id": "30dcaf30",
   "metadata": {},
   "source": [
    "# Strings are Arrays"
   ]
  },
  {
   "cell_type": "markdown",
   "id": "8b63e39e",
   "metadata": {},
   "source": [
    "Strings in Python are arrays of bytes representing unicode characters.\n",
    "\n",
    "However, Python does not have a character data type, a single character is simply a string with a length of 1.\n",
    "\n",
    "Square brackets can be used to access elements of the string."
   ]
  },
  {
   "cell_type": "code",
   "execution_count": 29,
   "id": "2408c484",
   "metadata": {},
   "outputs": [
    {
     "name": "stdout",
     "output_type": "stream",
     "text": [
      "H\n",
      "o\n",
      "y\n"
     ]
    }
   ],
   "source": [
    "# indexing of strings\n",
    "p = \"Hello, Python!\"\n",
    "\n",
    "print(p[0])\n",
    "print(p[4])\n",
    "print(p[8])"
   ]
  },
  {
   "cell_type": "code",
   "execution_count": 30,
   "id": "e4a4cf31",
   "metadata": {},
   "outputs": [
    {
     "name": "stdout",
     "output_type": "stream",
     "text": [
      "P\n",
      "y\n",
      "t\n",
      "h\n",
      "o\n",
      "n\n"
     ]
    }
   ],
   "source": [
    "# Looping through strings\n",
    "for i in \"Python\":\n",
    "    print(i)"
   ]
  },
  {
   "cell_type": "code",
   "execution_count": 31,
   "id": "0ec1d6b7",
   "metadata": {},
   "outputs": [
    {
     "name": "stdout",
     "output_type": "stream",
     "text": [
      "6\n"
     ]
    }
   ],
   "source": [
    "#String Length\n",
    "\n",
    "# len()\n",
    "\n",
    "k = \"Python\"\n",
    "print(len(k))"
   ]
  },
  {
   "cell_type": "code",
   "execution_count": 32,
   "id": "81b1daf6",
   "metadata": {},
   "outputs": [
    {
     "name": "stdout",
     "output_type": "stream",
     "text": [
      "True\n"
     ]
    }
   ],
   "source": [
    "# Checking string is present another string.\n",
    "\n",
    "# in\n",
    "\n",
    "txt = \"Python is fantastic language\"\n",
    "\n",
    "print('is' in txt)"
   ]
  },
  {
   "cell_type": "code",
   "execution_count": 33,
   "id": "0eb59102",
   "metadata": {},
   "outputs": [
    {
     "name": "stdout",
     "output_type": "stream",
     "text": [
      "False\n"
     ]
    }
   ],
   "source": [
    "# Checking if not present\n",
    "\n",
    "# not in\n",
    "\n",
    "txt = \"Python is open-source language\"\n",
    "\n",
    "print(\"an\" not in txt)"
   ]
  },
  {
   "cell_type": "markdown",
   "id": "fecb6d79",
   "metadata": {},
   "source": [
    "# String Slicing"
   ]
  },
  {
   "cell_type": "markdown",
   "id": "c79c7d98",
   "metadata": {},
   "source": [
    "Specify the start index and the end index, separated by a colon, to return a part of the string."
   ]
  },
  {
   "cell_type": "code",
   "execution_count": 34,
   "id": "c15d8995",
   "metadata": {},
   "outputs": [
    {
     "name": "stdout",
     "output_type": "stream",
     "text": [
      "yth\n"
     ]
    }
   ],
   "source": [
    "x = \"Python String\"\n",
    "\n",
    "print(x[1:4]) #return string starting from index 1 upto index 4 "
   ]
  },
  {
   "cell_type": "code",
   "execution_count": 35,
   "id": "117cc34d",
   "metadata": {},
   "outputs": [
    {
     "name": "stdout",
     "output_type": "stream",
     "text": [
      "Python String\n"
     ]
    }
   ],
   "source": [
    "print(x[:]) #return whole string"
   ]
  },
  {
   "cell_type": "code",
   "execution_count": 40,
   "id": "28a21e5b",
   "metadata": {},
   "outputs": [
    {
     "name": "stdout",
     "output_type": "stream",
     "text": [
      "Pytho\n"
     ]
    }
   ],
   "source": [
    "print(x[:5]) #return upto index 5"
   ]
  },
  {
   "cell_type": "code",
   "execution_count": 41,
   "id": "5d011d5d",
   "metadata": {},
   "outputs": [
    {
     "name": "stdout",
     "output_type": "stream",
     "text": [
      "thon String\n"
     ]
    }
   ],
   "source": [
    "print(x[2:]) #return from index 2 till end"
   ]
  },
  {
   "cell_type": "code",
   "execution_count": null,
   "id": "61add4a8",
   "metadata": {},
   "outputs": [],
   "source": []
  },
  {
   "cell_type": "markdown",
   "id": "a00910dc",
   "metadata": {},
   "source": [
    "# Negative Indexing"
   ]
  },
  {
   "cell_type": "markdown",
   "id": "fb405b26",
   "metadata": {},
   "source": [
    "Use negative indeing to start the slice from the end of the string"
   ]
  },
  {
   "cell_type": "code",
   "execution_count": 43,
   "id": "b5fdb4e4",
   "metadata": {},
   "outputs": [
    {
     "name": "stdout",
     "output_type": "stream",
     "text": [
      "orl\n"
     ]
    }
   ],
   "source": [
    "b = \"Hello, World!\"\n",
    "print(b[-5:-2]) # negative indexing start from right to left and from -1 as first index not 0"
   ]
  },
  {
   "cell_type": "code",
   "execution_count": 44,
   "id": "a7b79e1e",
   "metadata": {},
   "outputs": [
    {
     "name": "stdout",
     "output_type": "stream",
     "text": [
      "n\n"
     ]
    }
   ],
   "source": [
    "p = \"Python\"\n",
    "print(p[-1])"
   ]
  },
  {
   "cell_type": "code",
   "execution_count": null,
   "id": "a70d5034",
   "metadata": {},
   "outputs": [],
   "source": []
  },
  {
   "cell_type": "markdown",
   "id": "7543a272",
   "metadata": {},
   "source": [
    "# Modify String"
   ]
  },
  {
   "cell_type": "markdown",
   "id": "66c23a12",
   "metadata": {},
   "source": [
    "Python has a set of built-in method that you can use on strings"
   ]
  },
  {
   "cell_type": "code",
   "execution_count": 46,
   "id": "5bc40f47",
   "metadata": {},
   "outputs": [
    {
     "name": "stdout",
     "output_type": "stream",
     "text": [
      "PYTHON\n"
     ]
    }
   ],
   "source": [
    "# Upper case \n",
    "\n",
    "# return the string in upper case\n",
    "\n",
    "z = \"Python\"\n",
    "print(z.upper())"
   ]
  },
  {
   "cell_type": "code",
   "execution_count": 47,
   "id": "059528c7",
   "metadata": {},
   "outputs": [
    {
     "name": "stdout",
     "output_type": "stream",
     "text": [
      "PYTHON STRINGS HAS MANY BUILT-IN FUNCTION\n"
     ]
    }
   ],
   "source": [
    "txt = \"Python strings has many built-in function\"\n",
    "print(txt.upper())"
   ]
  },
  {
   "cell_type": "code",
   "execution_count": null,
   "id": "35d65fa7",
   "metadata": {},
   "outputs": [],
   "source": []
  },
  {
   "cell_type": "code",
   "execution_count": 49,
   "id": "1ac4cfc3",
   "metadata": {},
   "outputs": [
    {
     "name": "stdout",
     "output_type": "stream",
     "text": [
      "http\n"
     ]
    }
   ],
   "source": [
    "# Lower case\n",
    "\n",
    "# return the string in lower case\n",
    "\n",
    "x = \"HTTP\"\n",
    "print(x.lower())"
   ]
  },
  {
   "cell_type": "code",
   "execution_count": 51,
   "id": "6516141f",
   "metadata": {},
   "outputs": [
    {
     "name": "stdout",
     "output_type": "stream",
     "text": [
      "hyper text markup language\n"
     ]
    }
   ],
   "source": [
    "txt = \"HYPER TEXT MARKUP LANGUAGE\"\n",
    "print(txt.lower())"
   ]
  },
  {
   "cell_type": "code",
   "execution_count": null,
   "id": "8ee5bc09",
   "metadata": {},
   "outputs": [],
   "source": []
  },
  {
   "cell_type": "code",
   "execution_count": 52,
   "id": "efb67e9f",
   "metadata": {},
   "outputs": [
    {
     "name": "stdout",
     "output_type": "stream",
     "text": [
      "   Python   \n",
      "Python\n"
     ]
    }
   ],
   "source": [
    "# Removing Whitespaces\n",
    "\n",
    "# strip() function\n",
    "# it removes any whitespace from the beginning or the end\n",
    "\n",
    "p = \"   Python   \"\n",
    "\n",
    "# without strip\n",
    "print(p)\n",
    "\n",
    "# with strip\n",
    "print(p.strip())"
   ]
  },
  {
   "cell_type": "code",
   "execution_count": null,
   "id": "dc0494af",
   "metadata": {},
   "outputs": [],
   "source": []
  },
  {
   "cell_type": "code",
   "execution_count": 54,
   "id": "19d6352a",
   "metadata": {},
   "outputs": [
    {
     "name": "stdout",
     "output_type": "stream",
     "text": [
      "Python\n"
     ]
    }
   ],
   "source": [
    "#  Replace String\n",
    "\n",
    "# replace() function\n",
    "# it took two element one which has to be replace, another one as new element in the position of replacable element\n",
    "\n",
    "j = \"Jython\"\n",
    "print(j.replace('J','P'))"
   ]
  },
  {
   "cell_type": "code",
   "execution_count": null,
   "id": "6424b515",
   "metadata": {},
   "outputs": [],
   "source": []
  },
  {
   "cell_type": "code",
   "execution_count": 55,
   "id": "8a917446",
   "metadata": {},
   "outputs": [
    {
     "name": "stdout",
     "output_type": "stream",
     "text": [
      "['Great', 'Work']\n"
     ]
    }
   ],
   "source": [
    "# Split String\n",
    "\n",
    "# split() function\n",
    "# it will split the string into substrings\n",
    "# this function took one element from where you have to split \n",
    "\n",
    "g = \"Great Work\"\n",
    "print(g.split(\" \"))"
   ]
  },
  {
   "cell_type": "code",
   "execution_count": null,
   "id": "a3032083",
   "metadata": {},
   "outputs": [],
   "source": []
  },
  {
   "cell_type": "markdown",
   "id": "95353b59",
   "metadata": {},
   "source": [
    "# String Concatenation, Format"
   ]
  },
  {
   "cell_type": "code",
   "execution_count": 56,
   "id": "de45d493",
   "metadata": {},
   "outputs": [
    {
     "name": "stdout",
     "output_type": "stream",
     "text": [
      "Pythoniseasy\n"
     ]
    }
   ],
   "source": [
    "# Concatenation of strings\n",
    "\n",
    "# adding u different string into one string\n",
    "\n",
    "p = \"Python\"\n",
    "i = \"is\"\n",
    "e = \"easy\"\n",
    "\n",
    "txt = p + i + e\n",
    "print(txt) "
   ]
  },
  {
   "cell_type": "code",
   "execution_count": 57,
   "id": "a520bdba",
   "metadata": {},
   "outputs": [
    {
     "name": "stdout",
     "output_type": "stream",
     "text": [
      "Python is easy\n"
     ]
    }
   ],
   "source": [
    "# by default it will not add any whitespace in it\n",
    "\n",
    "# with the help of \" \", it will add whitespace and seperate them\n",
    "\n",
    "txt = p + \" \" + i + \" \" + e\n",
    "print(txt)"
   ]
  },
  {
   "cell_type": "code",
   "execution_count": 59,
   "id": "ec7fdfcf",
   "metadata": {},
   "outputs": [
    {
     "name": "stdout",
     "output_type": "stream",
     "text": [
      "jython python\n"
     ]
    }
   ],
   "source": [
    "j = \"jython\"\n",
    "p = \"python\"\n",
    "\n",
    "j = j + \" \" + p\n",
    "print(j)"
   ]
  },
  {
   "cell_type": "code",
   "execution_count": null,
   "id": "31b9ef85",
   "metadata": {},
   "outputs": [],
   "source": []
  },
  {
   "cell_type": "code",
   "execution_count": 60,
   "id": "d9b368bb",
   "metadata": {},
   "outputs": [
    {
     "ename": "TypeError",
     "evalue": "can only concatenate str (not \"int\") to str",
     "output_type": "error",
     "traceback": [
      "\u001b[1;31m---------------------------------------------------------------------------\u001b[0m",
      "\u001b[1;31mTypeError\u001b[0m                                 Traceback (most recent call last)",
      "Input \u001b[1;32mIn [60]\u001b[0m, in \u001b[0;36m<cell line: 4>\u001b[1;34m()\u001b[0m\n\u001b[0;32m      1\u001b[0m \u001b[38;5;66;03m# String Format\u001b[39;00m\n\u001b[0;32m      3\u001b[0m age \u001b[38;5;241m=\u001b[39m \u001b[38;5;241m22\u001b[39m\n\u001b[1;32m----> 4\u001b[0m txt \u001b[38;5;241m=\u001b[39m \u001b[38;5;124;43m\"\u001b[39;49m\u001b[38;5;124;43mMy name is Parvinder, I am \u001b[39;49m\u001b[38;5;124;43m\"\u001b[39;49m\u001b[43m \u001b[49m\u001b[38;5;241;43m+\u001b[39;49m\u001b[43m \u001b[49m\u001b[43mage\u001b[49m\n\u001b[0;32m      5\u001b[0m \u001b[38;5;28mprint\u001b[39m(txt)\n",
      "\u001b[1;31mTypeError\u001b[0m: can only concatenate str (not \"int\") to str"
     ]
    }
   ],
   "source": [
    "# String Format\n",
    "\n",
    "age = 22\n",
    "txt = \"My name is Parvinder, I am \" + age\n",
    "print(txt)"
   ]
  },
  {
   "cell_type": "raw",
   "id": "78e23e5e",
   "metadata": {},
   "source": [
    "we can't add an int to a string"
   ]
  },
  {
   "cell_type": "code",
   "execution_count": 62,
   "id": "d28d3c4d",
   "metadata": {},
   "outputs": [
    {
     "name": "stdout",
     "output_type": "stream",
     "text": [
      "My name is Parvinder, I am 22\n"
     ]
    }
   ],
   "source": [
    "age = 22 \n",
    "txt = \"My name is Parvinder, I am \" + str(age)\n",
    "print(txt)"
   ]
  },
  {
   "cell_type": "code",
   "execution_count": null,
   "id": "f734186a",
   "metadata": {},
   "outputs": [],
   "source": []
  },
  {
   "cell_type": "code",
   "execution_count": 63,
   "id": "0f5cd7d2",
   "metadata": {},
   "outputs": [
    {
     "name": "stdout",
     "output_type": "stream",
     "text": [
      "My name is Parvinder, and I am 22\n"
     ]
    }
   ],
   "source": [
    "# with format function\n",
    "\n",
    "# format()\n",
    "\n",
    "# The format() method takes unlimited number of arguments, and are placed into the respective placeholders\n",
    "\n",
    "age = 22\n",
    "txt = \"My name is Parvinder, and I am {}\"    # {} used by format() to identify whre it has to be placed \n",
    "print(txt.format(age))"
   ]
  },
  {
   "cell_type": "code",
   "execution_count": 65,
   "id": "2ab08c37",
   "metadata": {},
   "outputs": [
    {
     "name": "stdout",
     "output_type": "stream",
     "text": [
      "I want 3 pieces of item 34 for 56.67 dollars.\n"
     ]
    }
   ],
   "source": [
    "# multiple format index\n",
    "\n",
    "quantity = 3\n",
    "itemno = 34\n",
    "price = 56.67\n",
    "\n",
    "myorder = \"I want {} pieces of item {} for {} dollars.\"\n",
    "\n",
    "print(myorder.format(quantity,itemno,price))"
   ]
  },
  {
   "cell_type": "code",
   "execution_count": null,
   "id": "6a91dab5",
   "metadata": {},
   "outputs": [],
   "source": []
  },
  {
   "cell_type": "code",
   "execution_count": 66,
   "id": "f51129dc",
   "metadata": {},
   "outputs": [
    {
     "name": "stdout",
     "output_type": "stream",
     "text": [
      "I want to pay 49.95 dollars for 3 pieces of item 567.\n"
     ]
    }
   ],
   "source": [
    "# You can use index numbers {0} to be sure the arguments are placed in the correct placeholders\n",
    "\n",
    "quantity = 3\n",
    "itemno = 567\n",
    "price = 49.95\n",
    "\n",
    "myorder = \"I want to pay {2} dollars for {0} pieces of item {1}.\"\n",
    "\n",
    "print(myorder.format(quantity, itemno, price))"
   ]
  },
  {
   "cell_type": "code",
   "execution_count": null,
   "id": "6f731951",
   "metadata": {},
   "outputs": [],
   "source": []
  },
  {
   "cell_type": "markdown",
   "id": "299d0e93",
   "metadata": {},
   "source": [
    "# Python Escape Characters"
   ]
  },
  {
   "cell_type": "code",
   "execution_count": 70,
   "id": "ae8d2d4c",
   "metadata": {},
   "outputs": [
    {
     "ename": "SyntaxError",
     "evalue": "invalid syntax (2013061750.py, line 3)",
     "output_type": "error",
     "traceback": [
      "\u001b[1;36m  Input \u001b[1;32mIn [70]\u001b[1;36m\u001b[0m\n\u001b[1;33m    txt = \"Python is an \"Open Source\" language.\"\u001b[0m\n\u001b[1;37m                         ^\u001b[0m\n\u001b[1;31mSyntaxError\u001b[0m\u001b[1;31m:\u001b[0m invalid syntax\n"
     ]
    }
   ],
   "source": [
    "# You will get an error if you use double quotes inside a string that is surrounded by double quotes\n",
    "\n",
    "txt = \"Python is an \"Open Source\" language.\"\n",
    "print(txt)"
   ]
  },
  {
   "cell_type": "code",
   "execution_count": 71,
   "id": "d5252ea8",
   "metadata": {},
   "outputs": [
    {
     "name": "stdout",
     "output_type": "stream",
     "text": [
      "Python is an \"Open Source\" language.\n"
     ]
    }
   ],
   "source": [
    "# To fix this use escape character \\\"\n",
    "\n",
    "txt = \"Python is an \\\"Open Source\\\" language.\"\n",
    "\n",
    "print(txt)"
   ]
  },
  {
   "cell_type": "code",
   "execution_count": null,
   "id": "3af53174",
   "metadata": {},
   "outputs": [],
   "source": []
  },
  {
   "cell_type": "code",
   "execution_count": 72,
   "id": "33018b6e",
   "metadata": {},
   "outputs": [
    {
     "name": "stdout",
     "output_type": "stream",
     "text": [
      "Python \t Programming\n"
     ]
    }
   ],
   "source": [
    "# \\t for Tab\n",
    "\n",
    "print(\"Python \\t Programming\")"
   ]
  },
  {
   "cell_type": "code",
   "execution_count": 73,
   "id": "9efaed6f",
   "metadata": {},
   "outputs": [
    {
     "name": "stdout",
     "output_type": "stream",
     "text": [
      " Python \n",
      " JAVA \n",
      " C++\n"
     ]
    }
   ],
   "source": [
    "# \\n for new line\n",
    "\n",
    "print(\" Python \\n JAVA \\n C++\")"
   ]
  },
  {
   "cell_type": "code",
   "execution_count": 74,
   "id": "0ae85faf",
   "metadata": {},
   "outputs": [
    {
     "name": "stdout",
     "output_type": "stream",
     "text": [
      "Python is free\\easy\n"
     ]
    }
   ],
   "source": [
    "# \\\\ for backslash\n",
    "\n",
    "print(\"Python is free\\\\easy\")"
   ]
  },
  {
   "cell_type": "code",
   "execution_count": 75,
   "id": "18c479d8",
   "metadata": {},
   "outputs": [],
   "source": [
    "# \\r for Carriage return\n",
    "# \\' for Single Quote\n",
    "# \\f for Form Feed\n",
    "# \\ooo for Octal value\n",
    "# \\xhh for Hex value"
   ]
  },
  {
   "cell_type": "code",
   "execution_count": null,
   "id": "a567a004",
   "metadata": {},
   "outputs": [],
   "source": []
  },
  {
   "cell_type": "markdown",
   "id": "58898306",
   "metadata": {},
   "source": [
    "# Another String Methods"
   ]
  },
  {
   "cell_type": "code",
   "execution_count": 78,
   "id": "df47df82",
   "metadata": {},
   "outputs": [
    {
     "name": "stdout",
     "output_type": "stream",
     "text": [
      "Python\n"
     ]
    }
   ],
   "source": [
    "# capitalize()\n",
    "# convert the first character to upper case\n",
    "\n",
    "p = 'python'\n",
    "print(p.capitalize())"
   ]
  },
  {
   "cell_type": "code",
   "execution_count": 79,
   "id": "b288f352",
   "metadata": {},
   "outputs": [
    {
     "name": "stdout",
     "output_type": "stream",
     "text": [
      "3\n"
     ]
    }
   ],
   "source": [
    "# count()\n",
    "# Return the number of times a specified value occurs in a String\n",
    "\n",
    "txt = \"Python is a programming language\"\n",
    "print(txt.count('n'))"
   ]
  },
  {
   "cell_type": "code",
   "execution_count": 80,
   "id": "0f343f88",
   "metadata": {},
   "outputs": [
    {
     "name": "stdout",
     "output_type": "stream",
     "text": [
      "2\n"
     ]
    }
   ],
   "source": [
    "# index()\n",
    "# Return the index position where it was found\n",
    "\n",
    "p = \"Python\"\n",
    "print(p.index('t'))"
   ]
  },
  {
   "cell_type": "code",
   "execution_count": 83,
   "id": "51958fc8",
   "metadata": {},
   "outputs": [
    {
     "name": "stdout",
     "output_type": "stream",
     "text": [
      "True\n"
     ]
    }
   ],
   "source": [
    "# isalnum()\n",
    "# Return True if all character in the string are alphanumeric\n",
    "\n",
    "sen = \"Pinda123\"\n",
    "print(sen.isalnum())"
   ]
  },
  {
   "cell_type": "code",
   "execution_count": 85,
   "id": "d63ffd4f",
   "metadata": {},
   "outputs": [
    {
     "name": "stdout",
     "output_type": "stream",
     "text": [
      "Parvinder Singh Rana\n"
     ]
    }
   ],
   "source": [
    "# join method\n",
    "# join all items in a tuple into a string, using any character as separator\n",
    "\n",
    "myTuple = (\"Parvinder\", \"Singh\", \"Rana\")\n",
    "\n",
    "print(\" \".join(myTuple))"
   ]
  },
  {
   "cell_type": "code",
   "execution_count": 86,
   "id": "688c28dd",
   "metadata": {},
   "outputs": [
    {
     "name": "stdout",
     "output_type": "stream",
     "text": [
      "pYTHON iS fUN tO cODE\n"
     ]
    }
   ],
   "source": [
    "# swapcase()\n",
    "# Swaps cases, lower case becomes upper case and vice versa\n",
    "\n",
    "p = \"Python Is Fun To Code\"\n",
    "print(p.swapcase())"
   ]
  },
  {
   "cell_type": "code",
   "execution_count": null,
   "id": "dd8c8068",
   "metadata": {},
   "outputs": [],
   "source": []
  },
  {
   "cell_type": "markdown",
   "id": "e7888d60",
   "metadata": {},
   "source": [
    "# Other String Functions"
   ]
  },
  {
   "cell_type": "code",
   "execution_count": 87,
   "id": "4e09c021",
   "metadata": {},
   "outputs": [
    {
     "name": "stdout",
     "output_type": "stream",
     "text": [
      "Practice programming for enhacing your codding\n"
     ]
    }
   ],
   "source": [
    "\"\"\"\n",
    "capitalize()\tConverts the first character to upper case\n",
    "casefold()\tConverts string into lower case\n",
    "center()\tReturns a centered string\n",
    "count()\tReturns the number of times a specified value occurs in a string\n",
    "encode()\tReturns an encoded version of the string\n",
    "endswith()\tReturns true if the string ends with the specified value\n",
    "expandtabs()\tSets the tab size of the string\n",
    "find()\tSearches the string for a specified value and returns the position of where it was found\n",
    "format()\tFormats specified values in a string\n",
    "format_map()\tFormats specified values in a string\n",
    "index()\tSearches the string for a specified value and returns the position of where it was found\n",
    "isalnum()\tReturns True if all characters in the string are alphanumeric\n",
    "isalpha()\tReturns True if all characters in the string are in the alphabet\n",
    "isascii()\tReturns True if all characters in the string are ascii characters\n",
    "isdecimal()\tReturns True if all characters in the string are decimals\n",
    "isdigit()\tReturns True if all characters in the string are digits\n",
    "isidentifier()\tReturns True if the string is an identifier\n",
    "islower()\tReturns True if all characters in the string are lower case\n",
    "isnumeric()\tReturns True if all characters in the string are numeric\n",
    "isprintable()\tReturns True if all characters in the string are printable\n",
    "isspace()\tReturns True if all characters in the string are whitespaces\n",
    "istitle()\tReturns True if the string follows the rules of a title\n",
    "isupper()\tReturns True if all characters in the string are upper case\n",
    "join()\tJoins the elements of an iterable to the end of the string\n",
    "ljust()\tReturns a left justified version of the string\n",
    "lower()\tConverts a string into lower case\n",
    "lstrip()\tReturns a left trim version of the string\n",
    "maketrans()\tReturns a translation table to be used in translations\n",
    "partition()\tReturns a tuple where the string is parted into three parts\n",
    "replace()\tReturns a string where a specified value is replaced with a specified value\n",
    "rfind()\tSearches the string for a specified value and returns the last position of where it was found\n",
    "rindex()\tSearches the string for a specified value and returns the last position of where it was found\n",
    "rjust()\tReturns a right justified version of the string\n",
    "rpartition()\tReturns a tuple where the string is parted into three parts\n",
    "rsplit()\tSplits the string at the specified separator, and returns a list\n",
    "rstrip()\tReturns a right trim version of the string\n",
    "split()\tSplits the string at the specified separator, and returns a list\n",
    "splitlines()\tSplits the string at line breaks and returns a list\n",
    "startswith()\tReturns true if the string starts with the specified value\n",
    "strip()\tReturns a trimmed version of the string\n",
    "swapcase()\tSwaps cases, lower case becomes upper case and vice versa\n",
    "title()\tConverts the first character of each word to upper case\n",
    "translate()\tReturns a translated string\n",
    "upper()\tConverts a string into upper case\n",
    "zfill()\tFills the string with a specified number of 0 values at the beginning\n",
    "\"\"\"\n",
    "\n",
    "print(\"Practice programming for enhacing your codding\")"
   ]
  },
  {
   "cell_type": "code",
   "execution_count": null,
   "id": "369fb858",
   "metadata": {},
   "outputs": [],
   "source": []
  }
 ],
 "metadata": {
  "kernelspec": {
   "display_name": "Python 3 (ipykernel)",
   "language": "python",
   "name": "python3"
  },
  "language_info": {
   "codemirror_mode": {
    "name": "ipython",
    "version": 3
   },
   "file_extension": ".py",
   "mimetype": "text/x-python",
   "name": "python",
   "nbconvert_exporter": "python",
   "pygments_lexer": "ipython3",
   "version": "3.9.12"
  }
 },
 "nbformat": 4,
 "nbformat_minor": 5
}
