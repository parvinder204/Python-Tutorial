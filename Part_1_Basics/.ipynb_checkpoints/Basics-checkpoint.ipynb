{
 "cells": [
  {
   "cell_type": "markdown",
   "id": "fa22342f",
   "metadata": {},
   "source": [
    "# Welcome To Python Tutorial"
   ]
  },
  {
   "cell_type": "code",
   "execution_count": 1,
   "id": "6546046f",
   "metadata": {},
   "outputs": [
    {
     "name": "stdout",
     "output_type": "stream",
     "text": [
      "Hello World\n"
     ]
    }
   ],
   "source": [
    "#Writing Your first program\n",
    "\n",
    "print(\"Hello World\")"
   ]
  },
  {
   "cell_type": "code",
   "execution_count": 2,
   "id": "bf62d371",
   "metadata": {},
   "outputs": [
    {
     "name": "stdout",
     "output_type": "stream",
     "text": [
      "A Dog\n",
      "o----\n",
      " ||||\n"
     ]
    }
   ],
   "source": [
    "#How code get Executed\n",
    "\n",
    "print('A Dog')\n",
    "print('o----')\n",
    "print(' ||||')\n",
    "\n",
    "#As you see in output code executed line by line "
   ]
  },
  {
   "cell_type": "markdown",
   "id": "b4e5d573",
   "metadata": {},
   "source": [
    "# Variables In Python 3.7"
   ]
  },
  {
   "cell_type": "code",
   "execution_count": 1,
   "id": "cfef19d7",
   "metadata": {},
   "outputs": [
    {
     "name": "stdout",
     "output_type": "stream",
     "text": [
      "5\n",
      "Hello\n"
     ]
    }
   ],
   "source": [
    "#Variables\n",
    "\n",
    "# Containers for Storing data values\n",
    "\n",
    "x = 5\n",
    "y = \"Hello\"\n",
    "\n",
    "print(x)\n",
    "print(y)"
   ]
  },
  {
   "cell_type": "code",
   "execution_count": 2,
   "id": "d3b0fb3d",
   "metadata": {},
   "outputs": [
    {
     "name": "stdout",
     "output_type": "stream",
     "text": [
      "<class 'int'>\n",
      "<class 'str'>\n"
     ]
    }
   ],
   "source": [
    "# type func\n",
    "\n",
    "# retrieve the data type of variable\n",
    "\n",
    "print(type(x))\n",
    "print(type(y))"
   ]
  },
  {
   "cell_type": "code",
   "execution_count": 4,
   "id": "39b0c863",
   "metadata": {},
   "outputs": [
    {
     "name": "stdout",
     "output_type": "stream",
     "text": [
      "3 <class 'str'>\n",
      "5\n",
      "4.0\n"
     ]
    }
   ],
   "source": [
    "# Casting of variables\n",
    "\n",
    "x = str(3)\n",
    "\n",
    "z = int(5)\n",
    "\n",
    "s = float(4)\n",
    "\n",
    "print(x, type(x))\n",
    "print(z)\n",
    "print(s)"
   ]
  },
  {
   "cell_type": "code",
   "execution_count": 5,
   "id": "4f790989",
   "metadata": {},
   "outputs": [
    {
     "name": "stdout",
     "output_type": "stream",
     "text": [
      "4 Sally\n"
     ]
    }
   ],
   "source": [
    "# Case Sensitive\n",
    "\n",
    "a = 4\n",
    "A = 'Sally'\n",
    "\n",
    "print(a, A)"
   ]
  },
  {
   "cell_type": "code",
   "execution_count": 6,
   "id": "646d95d8",
   "metadata": {},
   "outputs": [],
   "source": [
    "# Camel case\n",
    "myVariableName = \"John\"\n",
    "\n",
    "# Pascal case\n",
    "MyVariableName = \"John\"\n",
    "\n",
    "#Snake case\n",
    "my_variable_name = \"John\""
   ]
  },
  {
   "cell_type": "code",
   "execution_count": 7,
   "id": "7097ab9d",
   "metadata": {},
   "outputs": [
    {
     "name": "stdout",
     "output_type": "stream",
     "text": [
      "5\n",
      "Hello\n",
      "4.0\n"
     ]
    }
   ],
   "source": [
    "# Multiple values to Multiple Variables\n",
    "\n",
    "x, y, z = 5, \"Hello\", 4.0\n",
    "print(x)\n",
    "print(y)\n",
    "print(z)"
   ]
  },
  {
   "cell_type": "code",
   "execution_count": 8,
   "id": "d356b5f2",
   "metadata": {},
   "outputs": [
    {
     "name": "stdout",
     "output_type": "stream",
     "text": [
      "Unique\n",
      "Unique\n",
      "Unique\n"
     ]
    }
   ],
   "source": [
    "x = y = z = \"Unique\"\n",
    "print(x)\n",
    "print(y)\n",
    "print(z)"
   ]
  },
  {
   "cell_type": "code",
   "execution_count": 9,
   "id": "9298e2d6",
   "metadata": {},
   "outputs": [
    {
     "name": "stdout",
     "output_type": "stream",
     "text": [
      "Python 3.7 is more features than Python 2\n"
     ]
    }
   ],
   "source": [
    "x = \"Python 3.7 is more features than Python 2\"\n",
    "print(x)"
   ]
  },
  {
   "cell_type": "code",
   "execution_count": 10,
   "id": "e5fd07f1",
   "metadata": {},
   "outputs": [
    {
     "name": "stdout",
     "output_type": "stream",
     "text": [
      "Coding is fun\n"
     ]
    }
   ],
   "source": [
    "# Global Variables\n",
    "\n",
    "x = \"fun\"\n",
    "\n",
    "def f_global():\n",
    "    print(\"Coding is \" + x)\n",
    "\n",
    "f_global()"
   ]
  },
  {
   "cell_type": "code",
   "execution_count": 11,
   "id": "40aebcbb",
   "metadata": {},
   "outputs": [
    {
     "name": "stdout",
     "output_type": "stream",
     "text": [
      "Coding is easy\n",
      "Coding is fun\n"
     ]
    }
   ],
   "source": [
    "# Local Variables\n",
    "\n",
    "x = \"fun\"\n",
    "\n",
    "def f_global():\n",
    "    x = 'easy'\n",
    "    print(\"Coding is \" + x)\n",
    "\n",
    "f_global()\n",
    "print(\"Coding is \" + x)"
   ]
  },
  {
   "cell_type": "code",
   "execution_count": 12,
   "id": "46023d5a",
   "metadata": {},
   "outputs": [
    {
     "name": "stdout",
     "output_type": "stream",
     "text": [
      "Python is fantastic\n"
     ]
    }
   ],
   "source": [
    "# Global keyword\n",
    "\n",
    "x = \"awesome\"\n",
    "\n",
    "def myfunc():\n",
    "    global x\n",
    "    x = \"fantastic\"\n",
    "\n",
    "myfunc()\n",
    "\n",
    "print(\"Python is \" + x)"
   ]
  },
  {
   "cell_type": "markdown",
   "id": "2ef7d01d",
   "metadata": {},
   "source": [
    "# Data Types in Python 3.7"
   ]
  },
  {
   "cell_type": "code",
   "execution_count": 21,
   "id": "ad8b16de",
   "metadata": {},
   "outputs": [
    {
     "name": "stdout",
     "output_type": "stream",
     "text": [
      "Data Types in Python\n"
     ]
    }
   ],
   "source": [
    "'''\n",
    "Text Type:\tstr\n",
    "Numeric Types:\tint, float, complex\n",
    "Sequence Types:\tlist, tuple, range\n",
    "Mapping Type:\tdict\n",
    "Set Types:\tset, frozenset\n",
    "Boolean Type:\tbool\n",
    "Binary Types:\tbytes, bytearray, memoryview\n",
    "None Type:\tNoneType\n",
    "'''\n",
    "print('Data Types in Python')"
   ]
  },
  {
   "cell_type": "code",
   "execution_count": 16,
   "id": "621f97fa",
   "metadata": {},
   "outputs": [
    {
     "name": "stdout",
     "output_type": "stream",
     "text": [
      "<class 'int'>\n",
      "<class 'str'>\n"
     ]
    }
   ],
   "source": [
    "# Getting the data type\n",
    "\n",
    "x = 5 \n",
    "print(type(x))\n",
    "\n",
    "s = 'Hello'\n",
    "print(type(s))"
   ]
  },
  {
   "cell_type": "code",
   "execution_count": 17,
   "id": "8ee8cad4",
   "metadata": {},
   "outputs": [
    {
     "name": "stdout",
     "output_type": "stream",
     "text": [
      "1j <class 'complex'>\n",
      "20.5 <class 'float'>\n"
     ]
    }
   ],
   "source": [
    "# Specify the data type\n",
    "\n",
    "x = complex(1j)\n",
    "\n",
    "y = float(20.5)\n",
    "\n",
    "print(x, type(x))\n",
    "print(y, type(y))"
   ]
  },
  {
   "cell_type": "code",
   "execution_count": 20,
   "id": "3349f6d5",
   "metadata": {},
   "outputs": [
    {
     "name": "stdout",
     "output_type": "stream",
     "text": [
      "Hello\n"
     ]
    }
   ],
   "source": [
    "\"\"\"\n",
    "In programming, data type is an important concept.\n",
    "\n",
    "Variables can store data of different types, and different types can do different things.\n",
    "\n",
    "Python has the following data types built-in by default, in these categories:\n",
    "\"\"\"\n",
    "print(\"Hello\")"
   ]
  },
  {
   "cell_type": "markdown",
   "id": "2360a0a6",
   "metadata": {},
   "source": [
    "# Comments In Python 3.7"
   ]
  },
  {
   "cell_type": "code",
   "execution_count": 22,
   "id": "bcde17c6",
   "metadata": {},
   "outputs": [
    {
     "name": "stdout",
     "output_type": "stream",
     "text": [
      "Comments in Python\n"
     ]
    }
   ],
   "source": [
    "\"\"\"\n",
    "Comments can be used to explain Python code.\n",
    "\n",
    "Comments can be used to make the code more readable.\n",
    "\n",
    "Comments can be used to prevent execution when testing code.\n",
    "\n",
    "\"\"\"\n",
    "\n",
    "print(\"Comments in Python\")"
   ]
  },
  {
   "cell_type": "code",
   "execution_count": 26,
   "id": "be949ba7",
   "metadata": {},
   "outputs": [
    {
     "name": "stdout",
     "output_type": "stream",
     "text": [
      "Single line comments are applied with # \n"
     ]
    }
   ],
   "source": [
    "# Single line Comment\n",
    "\n",
    "print(\"Single line comments are applied with # \")"
   ]
  },
  {
   "cell_type": "code",
   "execution_count": 27,
   "id": "548857a7",
   "metadata": {},
   "outputs": [
    {
     "name": "stdout",
     "output_type": "stream",
     "text": [
      "Multiline comments are applied with \"\"\"triple quotes \"\"\"\n"
     ]
    }
   ],
   "source": [
    "# Multiline Comments\n",
    "\n",
    "\"\"\"\n",
    "This is a comment\n",
    "written in\n",
    "more than just one line\n",
    "\"\"\"\n",
    "print('Multiline comments are applied with \"\"\"triple quotes \"\"\"')"
   ]
  },
  {
   "cell_type": "code",
   "execution_count": 28,
   "id": "70693f7f",
   "metadata": {},
   "outputs": [
    {
     "name": "stdout",
     "output_type": "stream",
     "text": [
      "Thank You for Watching this\n"
     ]
    }
   ],
   "source": [
    "print(\"Thank You for Watching this\")"
   ]
  },
  {
   "cell_type": "code",
   "execution_count": null,
   "id": "0155efc0",
   "metadata": {},
   "outputs": [],
   "source": []
  }
 ],
 "metadata": {
  "kernelspec": {
   "display_name": "Python 3 (ipykernel)",
   "language": "python",
   "name": "python3"
  },
  "language_info": {
   "codemirror_mode": {
    "name": "ipython",
    "version": 3
   },
   "file_extension": ".py",
   "mimetype": "text/x-python",
   "name": "python",
   "nbconvert_exporter": "python",
   "pygments_lexer": "ipython3",
   "version": "3.9.12"
  }
 },
 "nbformat": 4,
 "nbformat_minor": 5
}
